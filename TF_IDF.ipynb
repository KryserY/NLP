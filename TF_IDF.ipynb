{
  "cells": [
    {
      "cell_type": "markdown",
      "metadata": {
        "id": "view-in-github",
        "colab_type": "text"
      },
      "source": [
        "<a href=\"https://colab.research.google.com/github/KryserY/NLP/blob/main/TF_IDF.ipynb\" target=\"_parent\"><img src=\"https://colab.research.google.com/assets/colab-badge.svg\" alt=\"Open In Colab\"/></a>"
      ]
    },
    {
      "cell_type": "markdown",
      "metadata": {
        "id": "3-tNXEbFOf-g"
      },
      "source": [
        "# TF-IDF"
      ]
    },
    {
      "cell_type": "markdown",
      "metadata": {
        "id": "6Vmb3ZK5SOhz"
      },
      "source": [
        "# PyTorch"
      ]
    },
    {
      "cell_type": "code",
      "source": [],
      "metadata": {
        "id": "KbnAaA1Fz0WR"
      },
      "execution_count": null,
      "outputs": []
    },
    {
      "cell_type": "markdown",
      "metadata": {
        "id": "9jJgT_lITGdG"
      },
      "source": [
        "[PyTorch](https://pytorch.org/) is an open source machine learning library used for applications such as natural language processing and computer vision. It is based on the [Torch](http://torch.ch/) library.\n",
        "\n",
        "Before we use Pytorch it is neccessary to understand what Pytorch is. Let's start from the core concepts: **Tensor**, **(Computational) Graph** and **Automatic Differentiation**\n",
        "\n",
        "\n",
        "## Tensor\n",
        "A tensor is a generalization of vectors and matrices. Vectors are one dimensional. Matrices are two dimensional. Tensors can have any number of dimensions. Tensors are the primary data structure used by neural networks. Normally, we refer to **nd**-tensors where **nd** stands for **n** **dimensional**.\n",
        "\n",
        "There are three basic attributes we need to know about tensors:\n",
        "*   *Rank*: The number of dimensions present within the tensor. e.g. rank-2 tensor means 2d-tensor.\n",
        "*   *Axes*: Used to refer to a specific dimension. The number of axes is equal to the number of dimensions. The length of an axis represents the number of elements on that axis. \n",
        "*   *Shape*: Formed by the length of each axis. e.g. shape(1,2) means a 2d-tensor with the first axis of length 1 and the second axis of length 2. \n",
        "\n",
        "\n",
        "![Tensor_Rank](https://drive.google.com/uc?id=1o5wulLHGxUuPxH3t3xfV8U7d2CrsL1oG)\n",
        "\n",
        "\n",
        "In PyTorch, tensors are represented by an object called [torch.Tensor](https://pytorch.org/docs/stable/tensors.html). This object has the following key properties : \n",
        "*   *torch.dtype*: an object representing the data type of a torch.Tensor. e.g. torch.float32\n",
        "*   *torch.device*: an object representing the device on which a torch.Tensor is or will be allocated. e.g. CPU or CUDA (GPU)\n",
        "*   *torch.layout*: an object representing the memory layout of a torch.Tensor.\n",
        "\n",
        "More details with illustrative examples can be found [here](https://pytorch.org/docs/stable/tensor_attributes.html#tensor-attributes-doc) \n",
        "\n",
        "\n"
      ]
    },
    {
      "cell_type": "markdown",
      "metadata": {
        "id": "lONWx3FtSwWJ"
      },
      "source": [
        "## Computational Graph and Automatic Differentiation\n",
        "PyTorch uses (directed acyclic) computational graphs  to graph the functional operations that are applied to tensors inside neural networks so as to computationally calculate derivatives for the network optimization. In graphs, the nodes are Tensors while the edges are functions that produce output Tensors from input Tensors (e.g. summation, mutiplication). Those graphs enable PyTorch to do the automatic differentiation for us, i.e. it can automatically calculate the derivatives that are needed for network optimization. We will learn more about it through pratical examples in following sections.\n",
        "\n",
        "Specifically, PyTorch generates the computational graph on the fly as when operations are created during forward passes in neural networks, which is refered to as a dynamic computational graph. Historically, this was one of the main differences between PyTorch and TensorFlow (which used static computational graphs, but now has an eager mode that functions more like PyTorch).\n",
        "\n"
      ]
    },
    {
      "cell_type": "markdown",
      "metadata": {
        "id": "xWQxFb_W8flk"
      },
      "source": [
        "## Importing the PyTorch library\n",
        "[Google Colab](https://colab.research.google.com/notebooks/welcome.ipynb) has the torch library installed by default so you just need to import it as shown below:"
      ]
    },
    {
      "cell_type": "code",
      "execution_count": null,
      "metadata": {
        "colab": {
          "base_uri": "https://localhost:8080/"
        },
        "id": "horLjqk6TNZX",
        "outputId": "f9aae54f-28ef-4ff3-9f50-2305bb5dc6c6"
      },
      "outputs": [
        {
          "output_type": "stream",
          "name": "stdout",
          "text": [
            "1.13.1+cu116\n"
          ]
        }
      ],
      "source": [
        "import torch\n",
        "print(torch.__version__) #check version"
      ]
    },
    {
      "cell_type": "markdown",
      "metadata": {
        "id": "XPp2MGCe1apL"
      },
      "source": [
        "## Tensor creation\n",
        "We will be implementing lots of models in PyTorch during the course. To get started, let's  have a look at how to create a tensor.\n",
        "\n",
        "We can create tensors **with numerical data**, typically numpy arrays:"
      ]
    },
    {
      "cell_type": "code",
      "execution_count": null,
      "metadata": {
        "colab": {
          "base_uri": "https://localhost:8080/"
        },
        "id": "bSymfXYxUT-8",
        "outputId": "11467564-0403-4ba5-b2ac-748f5de414ff"
      },
      "outputs": [
        {
          "output_type": "stream",
          "name": "stdout",
          "text": [
            "torch.Size([])\n",
            "torch.Size([2])\n",
            "torch.Size([2, 2])\n",
            "torch.Size([2, 2, 2])\n",
            "torch.Size([2, 2, 2, 2])\n"
          ]
        }
      ],
      "source": [
        "import numpy as np\n",
        "\n",
        "# Scalar (0 Rank)\n",
        "data = torch.tensor(1)\n",
        "print(data.shape)\n",
        "\n",
        "\n",
        "# Vector (1 Rank)\n",
        "data = np.array([1,2]) \n",
        "data = torch.Tensor(data)\n",
        "print(data.shape)\n",
        "\n",
        "\n",
        "# Matrix (2 Rank)\n",
        "data = np.ones((2,2,)) \n",
        "data = torch.Tensor(data)\n",
        "print(data.shape)\n",
        "\n",
        "\n",
        "# Cube (3 Rank)\n",
        "data = np.ones((2,2,2)) \n",
        "data = torch.Tensor(data)\n",
        "print(data.shape)\n",
        "\n",
        "\n",
        "# Vector of cubes (4 Rank)\n",
        "data = np.ones((2,2,2,2)) \n",
        "data = torch.Tensor(data)\n",
        "print(data.shape)"
      ]
    },
    {
      "cell_type": "markdown",
      "metadata": {
        "id": "6LEAyEhrn03F"
      },
      "source": [
        "Notice that although both torch.Tensor() and torch.tensor() can be used to  generate tensors, there are some differences:\n",
        "\n",
        "*   torch.Tensor() is the constructor of the torch.Tensor class while torch.tensor() is a factory function that constructs torch.Tensor objects and return them to the caller \n",
        "*   torch.Tensor() can return an empty tensor without specifying incoming data while torch.tensor() with no input data will prouduce a TypeError\n",
        "*   torch.Tensor() uses the default dtype \"float32\" while torch.tensor() chooses the dtype based on the incoming data (type inference). This is illustrated by the following example:\n",
        "\n"
      ]
    },
    {
      "cell_type": "code",
      "execution_count": null,
      "metadata": {
        "colab": {
          "base_uri": "https://localhost:8080/"
        },
        "id": "fxsULaaptyF7",
        "outputId": "816b3bd5-aa8e-45de-db17-3d1bc4209629"
      },
      "outputs": [
        {
          "output_type": "stream",
          "name": "stdout",
          "text": [
            "NumPy Data type: int64\n",
            "torch.Tensor():\n",
            "Object: tensor([1., 2.])\n",
            "Data type: torch.float32\n",
            "\n",
            "torch.tensor():\n",
            "Object: tensor([1, 2])\n",
            "Data type torch.int64\n",
            "\n",
            "torch.tensor() with specified type:\n",
            "Object: tensor([1., 2.], dtype=torch.float64)\n",
            "Data type torch.float64\n",
            "\n",
            "Default type? torch.float32\n"
          ]
        }
      ],
      "source": [
        "data = np.array([1,2]) \n",
        "print(\"NumPy Data type:\", data.dtype)\n",
        "\n",
        "data_T = torch.Tensor(data)\n",
        "print(\"torch.Tensor():\")\n",
        "print(\"Object:\", data_T)\n",
        "print(\"Data type:\", data_T.dtype)\n",
        "print()\n",
        "\n",
        "data_t = torch.tensor(data)\n",
        "print(\"torch.tensor():\")\n",
        "print(\"Object:\", data_t)\n",
        "print(\"Data type\", data_t.dtype)\n",
        "print()\n",
        "\n",
        "#we can also specify a datatype with torch.tensor()\n",
        "data_t = torch.tensor(data, dtype=torch.float64)\n",
        "print(\"torch.tensor() with specified type:\")\n",
        "print(\"Object:\", data_t)\n",
        "print(\"Data type\", data_t.dtype)\n",
        "print()\n",
        "\n",
        "# We can also check and set the default type\n",
        "print(\"Default type?\", torch.get_default_dtype())\n",
        "# Note, the default can be set with 'torch.set_default_dtype(dtype)'"
      ]
    },
    {
      "cell_type": "markdown",
      "metadata": {
        "id": "cE2tWt771BYk"
      },
      "source": [
        "As well as torch.Tensor() and torch.tensor(), we can also use torch.as_tensor and torch.from_numpy"
      ]
    },
    {
      "cell_type": "code",
      "execution_count": null,
      "metadata": {
        "colab": {
          "base_uri": "https://localhost:8080/"
        },
        "id": "hE5zySUlbYPK",
        "outputId": "3c23b27e-e3fe-480d-f0ef-66daffbb5ac0"
      },
      "outputs": [
        {
          "output_type": "stream",
          "name": "stdout",
          "text": [
            "Data: [[[1. 1.]\n",
            "  [1. 1.]]\n",
            "\n",
            " [[1. 1.]\n",
            "  [1. 1.]]]\n",
            "torch.as_tensor:\n",
            "Object: tensor([[[1., 1.],\n",
            "         [1., 1.]],\n",
            "\n",
            "        [[1., 1.],\n",
            "         [1., 1.]]], dtype=torch.float64)\n",
            "Data type: torch.float64\n",
            "Data shape: torch.Size([2, 2, 2])\n",
            "\n",
            "Data: [[[[1. 1.]\n",
            "   [1. 1.]]\n",
            "\n",
            "  [[1. 1.]\n",
            "   [1. 1.]]]\n",
            "\n",
            "\n",
            " [[[1. 1.]\n",
            "   [1. 1.]]\n",
            "\n",
            "  [[1. 1.]\n",
            "   [1. 1.]]]]\n",
            "torch.from_numpy:\n",
            "Object: tensor([[[[1., 1.],\n",
            "          [1., 1.]],\n",
            "\n",
            "         [[1., 1.],\n",
            "          [1., 1.]]],\n",
            "\n",
            "\n",
            "        [[[1., 1.],\n",
            "          [1., 1.]],\n",
            "\n",
            "         [[1., 1.],\n",
            "          [1., 1.]]]], dtype=torch.float64)\n",
            "Data type: torch.float64\n",
            "Data shape: torch.Size([2, 2, 2, 2])\n"
          ]
        }
      ],
      "source": [
        "# Create tensor using torch.as_tensor \n",
        "np_data = np.ones((2,2,2)) \n",
        "data = torch.as_tensor(np_data)\n",
        "print(\"Data:\", np_data)\n",
        "print(\"torch.as_tensor:\")\n",
        "print(\"Object:\", data)\n",
        "print(\"Data type:\", data.dtype)\n",
        "print(\"Data shape:\", data.shape)\n",
        "print()\n",
        "\n",
        "# Create tensor using torch.from_numpy\n",
        "np_data = np.ones((2,2,2,2))\n",
        "data = torch.from_numpy(np_data)\n",
        "print(\"Data:\", np_data)\n",
        "print(\"torch.from_numpy:\")\n",
        "print(\"Object:\", data)\n",
        "print(\"Data type:\", data.dtype)\n",
        "print(\"Data shape:\", data.shape)"
      ]
    },
    {
      "cell_type": "markdown",
      "metadata": {
        "id": "Q-hrVh5Eb50F"
      },
      "source": [
        "Alternatively, we can also create tensors **without data** using factory functions"
      ]
    },
    {
      "cell_type": "code",
      "execution_count": null,
      "metadata": {
        "colab": {
          "base_uri": "https://localhost:8080/"
        },
        "id": "XGnl32afcBnv",
        "outputId": "6e5e00d7-5d11-4058-be42-cee6e7ace693"
      },
      "outputs": [
        {
          "output_type": "execute_result",
          "data": {
            "text/plain": [
              "tensor([[1., 0.],\n",
              "        [0., 1.]])"
            ]
          },
          "metadata": {},
          "execution_count": 5
        }
      ],
      "source": [
        "# torch.eye: Returns an identity matrix of the specified size\n",
        "torch.eye(2)"
      ]
    },
    {
      "cell_type": "code",
      "execution_count": null,
      "metadata": {
        "colab": {
          "base_uri": "https://localhost:8080/"
        },
        "id": "R8QlyKrPcxs_",
        "outputId": "a956375b-7bba-499a-d086-8373369eea5f"
      },
      "outputs": [
        {
          "output_type": "execute_result",
          "data": {
            "text/plain": [
              "tensor([[0., 0.],\n",
              "        [0., 0.]])"
            ]
          },
          "metadata": {},
          "execution_count": 6
        }
      ],
      "source": [
        "# torch.zeros: Returns a tensor of given shape filled with all zeros\n",
        "torch.zeros(2,2)"
      ]
    },
    {
      "cell_type": "code",
      "execution_count": null,
      "metadata": {
        "colab": {
          "base_uri": "https://localhost:8080/"
        },
        "id": "rO_IkTuSc66X",
        "outputId": "75581932-4deb-48a4-c6d8-0d48100170c0"
      },
      "outputs": [
        {
          "output_type": "execute_result",
          "data": {
            "text/plain": [
              "tensor([[1., 1.],\n",
              "        [1., 1.]])"
            ]
          },
          "metadata": {},
          "execution_count": 7
        }
      ],
      "source": [
        "# torch.ones: Returns a tensor of given shape filled with all ones\n",
        "torch.ones(2,2)"
      ]
    },
    {
      "cell_type": "code",
      "execution_count": null,
      "metadata": {
        "colab": {
          "base_uri": "https://localhost:8080/"
        },
        "id": "BZqJpoIXc8wL",
        "outputId": "461a629e-2460-4c19-b06d-ad0a9b4bab95"
      },
      "outputs": [
        {
          "output_type": "execute_result",
          "data": {
            "text/plain": [
              "tensor([[0.3388, 0.8704],\n",
              "        [0.9157, 0.3807]])"
            ]
          },
          "metadata": {},
          "execution_count": 8
        }
      ],
      "source": [
        "# torch.rand: Returns a tensor of given shape filled with values drawn from a uniform distribution on [0, 1).\n",
        "torch.rand(2,2)"
      ]
    },
    {
      "cell_type": "markdown",
      "metadata": {
        "id": "NTOQtikExO7M"
      },
      "source": [
        "More factory functions for tensor creation can be found [here](https://pytorch.org/cppdocs/notes/tensor_creation.html#factory-functions)"
      ]
    },
    {
      "cell_type": "markdown",
      "metadata": {
        "id": "Bff_DPKHbSvY"
      },
      "source": [
        "## Basic tensor operations"
      ]
    },
    {
      "cell_type": "markdown",
      "metadata": {
        "id": "rKz1UOFEHYVr"
      },
      "source": [
        "The list of operations with examples can be found [here](https://pytorch.org/docs/stable/torch.html#math-operations). Please go through and try to practise yourself with examples before you move on. You don't need to remember all of them, you can easily refer back to the list when needed."
      ]
    },
    {
      "cell_type": "markdown",
      "metadata": {
        "id": "IE91VTvN_YVB"
      },
      "source": [
        "## Simple Linear Regression\n",
        "\n",
        "![Linear_Regression](https://upload.wikimedia.org/wikipedia/commons/thumb/3/3a/Linear_regression.svg/320px-Linear_regression.svg.png)\n",
        "\n",
        "The following code implements a simple linear regression algorithm.\n",
        "\n"
      ]
    },
    {
      "cell_type": "markdown",
      "metadata": {
        "id": "3fXyR-6lGlie"
      },
      "source": [
        "### Linear Regression from scratch"
      ]
    },
    {
      "cell_type": "markdown",
      "metadata": {
        "id": "ALnKOtUpGZyk"
      },
      "source": [
        "Prepare data"
      ]
    },
    {
      "cell_type": "code",
      "execution_count": null,
      "metadata": {
        "id": "uK900tGJBcbt"
      },
      "outputs": [],
      "source": [
        "import numpy\n",
        "import matplotlib.pyplot as plt\n",
        "import torch\n",
        "\n",
        "# training data\n",
        "x_training = numpy.asarray([1,2,5,8,9,12,14,16,18,20])\n",
        "y_training = numpy.asarray([1500,3500,7200,11000,12500,18500,22000,24500,28000,30500])\n",
        "\n",
        "x_test = numpy.asarray([3,7,13,15,19])\n",
        "y_test = numpy.asarray([4400,10000,19500,23500,29000])\n",
        "\n",
        "# creating tensors for training data and test data\n",
        "x_data = torch.from_numpy(x_training)\n",
        "y_data = torch.from_numpy(y_training)\n",
        "x_test_data = torch.from_numpy(x_test)\n",
        "y_test_data = torch.from_numpy(y_test)\n"
      ]
    },
    {
      "cell_type": "markdown",
      "metadata": {
        "id": "u4DA9NoJG10G"
      },
      "source": [
        "Once the dataset is prepared, we can start defining our model architecture\n",
        " \n",
        "Let's first build it from scratch to gain a clear understanding of how automatic differentiation works:\n",
        "\n"
      ]
    },
    {
      "cell_type": "code",
      "execution_count": null,
      "metadata": {
        "colab": {
          "base_uri": "https://localhost:8080/"
        },
        "id": "IzlkNOOpGk8r",
        "outputId": "acc61db8-c5b4-4ea5-86be-95aad7bc13df"
      },
      "outputs": [
        {
          "output_type": "stream",
          "name": "stdout",
          "text": [
            "tensor(-0.3071, requires_grad=True)\n",
            "tensor(-1.0070, requires_grad=True)\n"
          ]
        }
      ],
      "source": [
        "# Define weights and biases\n",
        "weight = torch.tensor(numpy.random.randn(), requires_grad=True)\n",
        "bias = torch.tensor(numpy.random.randn(), requires_grad=True)\n",
        "print(weight)\n",
        "print(bias)"
      ]
    },
    {
      "cell_type": "markdown",
      "metadata": {
        "id": "9p3lWE7DL_c2"
      },
      "source": [
        "Note that we set 'requires_grad=True' above, which turns on the automatic gradient computation these two objects.\n",
        "\n",
        "Every Tensor has a flag: 'requires_grad' that allows for fine grained exclusion of subgraphs from gradient computation and can increase efficiency. If any input to an operation requires a gradient, its output will also require a gradient. Conversely, the output won’t require a gradient only if all inputs don’t require gradients. Backward computation is not performed in the subgraphs where all Tensors don’t require gradients."
      ]
    },
    {
      "cell_type": "code",
      "execution_count": null,
      "metadata": {
        "id": "FnGNiyccJEU7"
      },
      "outputs": [],
      "source": [
        "# Define the model\n",
        "# Hypothesis = W * X + b (Linear Model)\n",
        "def linearRegression(x):\n",
        "  return x * weight + bias"
      ]
    },
    {
      "cell_type": "code",
      "execution_count": null,
      "metadata": {
        "colab": {
          "base_uri": "https://localhost:8080/"
        },
        "id": "eYVxYYEaJw_9",
        "outputId": "1abc62f2-8977-4ffc-b08c-dc2919893faf"
      },
      "outputs": [
        {
          "output_type": "stream",
          "name": "stdout",
          "text": [
            "tensor([-1.3142, -1.6213, -2.5427, -3.4640, -3.7712, -4.6925, -5.3068, -5.9210,\n",
            "        -6.5353, -7.1495], grad_fn=<AddBackward0>)\n",
            "tensor([ 1500,  3500,  7200, 11000, 12500, 18500, 22000, 24500, 28000, 30500])\n"
          ]
        }
      ],
      "source": [
        "# Generate predictions and compare with ground truth labels\n",
        "# As we can see, because we randomly initialised the weight and bias, the model is not accurate\n",
        "predictions = linearRegression(x_data)\n",
        "print(predictions)\n",
        "print(y_data)"
      ]
    },
    {
      "cell_type": "code",
      "execution_count": null,
      "metadata": {
        "id": "4rjCmeI3KxEy"
      },
      "outputs": [],
      "source": [
        "# Define loss function \n",
        "# here we use mean squared error (MSE)\n",
        "def mse(x1, x2):\n",
        "  diff = x1 - x2\n",
        "  return torch.sum(diff*diff)/diff.numel()"
      ]
    },
    {
      "cell_type": "code",
      "execution_count": null,
      "metadata": {
        "colab": {
          "base_uri": "https://localhost:8080/"
        },
        "id": "MnnZ_W8yLPLw",
        "outputId": "6ddb0f81-e7c3-47b3-a185-017eac5ba9e1"
      },
      "outputs": [
        {
          "output_type": "stream",
          "name": "stdout",
          "text": [
            "tensor(3.4861e+08, grad_fn=<DivBackward0>)\n"
          ]
        }
      ],
      "source": [
        "# Compute loss - lower is better\n",
        "loss = mse(predictions, y_data)\n",
        "print(loss)"
      ]
    },
    {
      "cell_type": "markdown",
      "metadata": {
        "id": "Ua8D9hd2MmSb"
      },
      "source": [
        "PyTorch automatically computed the gradient/derivative of the loss. In this case, the derivative is calculated with regard to the weight and bias because we set them to have 'requires_grad=True' and they are part of the graph with the loss.\n",
        "\n",
        "All we need to do now is to call the backward() function over our loss, which will trigger the automatic computation of gradients based on the chain rule."
      ]
    },
    {
      "cell_type": "code",
      "execution_count": null,
      "metadata": {
        "id": "cQ5PL5rbNJ09"
      },
      "outputs": [],
      "source": [
        "# Compute gradients\n",
        "loss.backward()"
      ]
    },
    {
      "cell_type": "markdown",
      "metadata": {
        "id": "qwuD_tYMNnZP"
      },
      "source": [
        "After the backward pass, the gradients are stored in the .grad property of the tensors involved:"
      ]
    },
    {
      "cell_type": "code",
      "execution_count": null,
      "metadata": {
        "colab": {
          "base_uri": "https://localhost:8080/"
        },
        "id": "w5glqZhkN1Fl",
        "outputId": "ce03e327-b5f9-4e95-bd7a-13f093cc8255"
      },
      "outputs": [
        {
          "output_type": "stream",
          "name": "stdout",
          "text": [
            "Current weight: tensor(-0.3071, requires_grad=True)\n",
            "Weight gradient: tensor(-456313.)\n",
            "\n",
            "Current bias: tensor(-1.0070, requires_grad=True)\n",
            "Bias gradient: tensor(-31848.4648)\n"
          ]
        }
      ],
      "source": [
        "# Gradient for weight\n",
        "print(\"Current weight:\", weight)\n",
        "print(\"Weight gradient:\", weight.grad)\n",
        "print()\n",
        "\n",
        "# Gradient for bias\n",
        "print(\"Current bias:\", bias)\n",
        "print(\"Bias gradient:\", bias.grad)"
      ]
    },
    {
      "cell_type": "markdown",
      "metadata": {
        "id": "bvHjhErrPiDk"
      },
      "source": [
        "Now we can adjust the weight and bias using the gradients. Why would we do that? Because it reduces the error for the example we used to compute the gradient. "
      ]
    },
    {
      "cell_type": "code",
      "execution_count": null,
      "metadata": {
        "colab": {
          "base_uri": "https://localhost:8080/"
        },
        "id": "F_HXZkOUP-vB",
        "outputId": "e9b6c025-b64a-4f37-fb8c-f7cda39491b0"
      },
      "outputs": [
        {
          "output_type": "stream",
          "name": "stdout",
          "text": [
            "tensor(4.2560, requires_grad=True)\n",
            "tensor(-0.6885, requires_grad=True)\n"
          ]
        }
      ],
      "source": [
        "# This 'with' block means there will be no automatic gradient computation\n",
        "# We do this because we do not want gradients to be calculated for this operation\n",
        "with torch.no_grad(): \n",
        "  # We use learning rate of 1e-5 here (ie., that is how big a change we make)\n",
        "  weight -= weight.grad * 1e-5\n",
        "  bias -= bias.grad * 1e-5\n",
        "print(weight)\n",
        "print(bias)\n"
      ]
    },
    {
      "cell_type": "markdown",
      "source": [
        "We need to reset the gradients before the next forward pass, because PyTorch accumulates gradients."
      ],
      "metadata": {
        "id": "dZLXlR8-7LfU"
      }
    },
    {
      "cell_type": "code",
      "execution_count": null,
      "metadata": {
        "colab": {
          "base_uri": "https://localhost:8080/"
        },
        "id": "MSj4yiSSSOJj",
        "outputId": "d5182809-d878-4cc7-b4aa-95ce4a0f3249"
      },
      "outputs": [
        {
          "output_type": "stream",
          "name": "stdout",
          "text": [
            "tensor(0.)\n",
            "tensor(0.)\n"
          ]
        }
      ],
      "source": [
        "with torch.no_grad(): \n",
        "  weight.grad.zero_()\n",
        "  bias.grad.zero_()  \n",
        "print(weight.grad)\n",
        "print(bias.grad)"
      ]
    },
    {
      "cell_type": "markdown",
      "metadata": {
        "id": "3rmo63CASlPp"
      },
      "source": [
        "Let's predict and compute loss again. The loss should be lower with the new weights and biases."
      ]
    },
    {
      "cell_type": "code",
      "execution_count": null,
      "metadata": {
        "colab": {
          "base_uri": "https://localhost:8080/"
        },
        "id": "xRBatrmLSxmW",
        "outputId": "1f558c24-fec6-49f7-cbb7-3f01241fdac4"
      },
      "outputs": [
        {
          "output_type": "stream",
          "name": "stdout",
          "text": [
            "tensor(3.4652e+08, grad_fn=<DivBackward0>)\n"
          ]
        }
      ],
      "source": [
        "predictions = linearRegression(x_data)\n",
        "loss = mse(predictions, y_data)\n",
        "print(loss)"
      ]
    },
    {
      "cell_type": "markdown",
      "metadata": {
        "id": "OE05OxGETIGd"
      },
      "source": [
        "Hopefully you now have an initial understanding of how automatic gradient computation works.\n",
        "\n",
        "Let's start training the model for multiple epochs (each epoch is one pass through the data).\n",
        "\n",
        "We do this with a python loop."
      ]
    },
    {
      "cell_type": "code",
      "execution_count": null,
      "metadata": {
        "colab": {
          "base_uri": "https://localhost:8080/",
          "height": 1000
        },
        "id": "glakWvo4TmmU",
        "outputId": "692cd3b1-e874-4df9-9151-ed941a4a41df"
      },
      "outputs": [
        {
          "output_type": "stream",
          "name": "stdout",
          "text": [
            "Epoch: 0000 loss= 344440320.00000000 W= 8.8054 b= -0.3710\n",
            "Epoch: 0200 loss= 103661976.00000000 W= 691.4285 b= 47.1439\n",
            "Epoch: 0400 loss= 31410054.00000000 W= 1065.3802 b= 72.9420\n",
            "Epoch: 0600 loss= 9728885.00000000 W= 1270.2443 b= 86.8443\n",
            "Epoch: 0800 loss= 3222824.75000000 W= 1382.4825 b= 94.2302\n",
            "Epoch: 1000 loss= 1270410.62500000 W= 1443.9819 b= 98.0469\n",
            "Epoch: 1200 loss= 684431.12500000 W= 1477.6877 b= 99.9084\n",
            "Epoch: 1400 loss= 508505.00000000 W= 1496.1674 b= 100.6994\n",
            "Epoch: 1600 loss= 455626.06250000 W= 1506.3058 b= 100.9040\n",
            "Epoch: 1800 loss= 439666.43750000 W= 1511.8762 b= 100.7878\n",
            "Epoch: 2000 loss= 434787.00000000 W= 1514.9438 b= 100.4959\n",
            "Epoch: 2200 loss= 433234.09375000 W= 1516.6401 b= 100.1082\n",
            "Epoch: 2400 loss= 432678.06250000 W= 1517.5856 b= 99.6681\n",
            "Epoch: 2600 loss= 432422.06250000 W= 1518.1194 b= 99.1995\n",
            "Epoch: 2800 loss= 432256.84375000 W= 1518.4279 b= 98.7157\n",
            "Epoch: 3000 loss= 432118.50000000 W= 1518.6121 b= 98.2236\n",
            "Epoch: 3200 loss= 431988.25000000 W= 1518.7288 b= 97.7273\n",
            "Epoch: 3400 loss= 431860.43750000 W= 1518.8087 b= 97.2289\n",
            "Epoch: 3600 loss= 431733.93750000 W= 1518.8658 b= 96.7299\n",
            "Epoch: 3800 loss= 431608.90625000 W= 1518.9147 b= 96.2310\n",
            "Epoch: 4000 loss= 431483.00000000 W= 1518.9635 b= 95.7320\n",
            "Epoch: 4200 loss= 431358.06250000 W= 1519.0027 b= 95.2331\n",
            "Epoch: 4400 loss= 431232.59375000 W= 1519.0377 b= 94.7341\n",
            "Epoch: 4600 loss= 431107.18750000 W= 1519.0728 b= 94.2357\n",
            "Epoch: 4800 loss= 430983.09375000 W= 1519.1077 b= 93.7383\n",
            "=========================================================\n",
            "Optimised: loss= 430859.250000000 W= 1519.142456055 b= 93.243331909\n"
          ]
        },
        {
          "output_type": "display_data",
          "data": {
            "text/plain": [
              "<Figure size 432x288 with 1 Axes>"
            ],
            "image/png": "[encoded data removed]"
          },
          "metadata": {
            "needs_background": "light"
          }
        },
        {
          "output_type": "stream",
          "name": "stdout",
          "text": [
            "Testing loss= 218904.921875000\n",
            "Absolute mean square loss difference: 211954.328125000\n"
          ]
        },
        {
          "output_type": "display_data",
          "data": {
            "text/plain": [
              "<Figure size 432x288 with 1 Axes>"
            ],
            "image/png": "[encoded data removed]"
          },
          "metadata": {
            "needs_background": "light"
          }
        }
      ],
      "source": [
        "# An epoch is one iteration over the entire input data\n",
        "no_of_epochs = 5000\n",
        "# How often you want to display training info.\n",
        "display_interval = 200\n",
        "\n",
        "for epoch in range(no_of_epochs):\n",
        "  predictions = linearRegression(x_data)\n",
        "  loss = mse(predictions, y_data)\n",
        "  loss.backward()\n",
        "  with torch.no_grad():\n",
        "    weight -= weight.grad * 1e-5\n",
        "    bias -= bias.grad * 1e-5\n",
        "    weight.grad.zero_()\n",
        "    bias.grad.zero_()\n",
        "  if epoch % display_interval == 0 :\n",
        "      # calculate the cost of the current model\n",
        "      predictions = linearRegression(x_data)\n",
        "      loss = mse(predictions, y_data)           \n",
        "      print(\"Epoch:\", '%04d' %(epoch), \"loss=\", \"{:.8f}\".format(loss), \"W=\", \"{:.4f}\".format(weight), \"b=\",  \"{:.4f}\".format(bias))\n",
        "\n",
        "print(\"=========================================================\")\n",
        "training_loss = mse(linearRegression(x_data), y_data)   \n",
        "print(\"Optimised:\", \"loss=\", \"{:.9f}\".format(training_loss.data), \\\n",
        "              \"W=\", \"{:.9f}\".format(weight.data), \"b=\", \"{:.9f}\".format(bias.data))\n",
        "    \n",
        "# Plot training data on a graph\n",
        "plt.plot(x_training, y_training, 'ro', label='Training data')\n",
        "plt.plot(x_training, weight.data * x_training + bias.data, label='Linear')\n",
        "plt.legend()\n",
        "plt.show()\n",
        "\n",
        "# Calculate test loss\n",
        "testing_loss = mse(linearRegression(x_test_data), y_test_data) \n",
        "print(\"Testing loss=\", \"{:.9f}\".format(testing_loss.data))\n",
        "print(\"Absolute mean square loss difference:\", \"{:.9f}\".format(abs(\n",
        "      training_loss.data - testing_loss.data)))\n",
        "  \n",
        "# Plot test data on a graph\n",
        "plt.plot(x_test, y_test, 'bo', label='Testing data')\n",
        "plt.plot(x_test, weight.data * x_test + bias.data, label='Linear')\n",
        "plt.legend()\n",
        "plt.show()"
      ]
    },
    {
      "cell_type": "markdown",
      "metadata": {
        "id": "54_Tj-BIaDPU"
      },
      "source": [
        "### Linear Regression using PyTorch built-ins"
      ]
    },
    {
      "cell_type": "markdown",
      "metadata": {
        "id": "yUrcVErtayVN"
      },
      "source": [
        "Now we will walk through creating a linear model using a built-in Pytorch class rather than defining our own function and tensors.\n",
        "\n",
        "Prepare some random data"
      ]
    },
    {
      "cell_type": "code",
      "execution_count": null,
      "metadata": {
        "id": "5DwoqFKbaiSY"
      },
      "outputs": [],
      "source": [
        "import numpy\n",
        "import matplotlib.pyplot as plt\n",
        "import torch\n",
        "import torch.nn as nn\n",
        "\n",
        "# training data: this time we use 2d array\n",
        "# Assuming we have 90 samples of 10 features about a house condition, such as\n",
        "# bedroom number, distance to city center etc. and will predict the house price \n",
        "x_data = torch.randn(90, 10)\n",
        "y_data = torch.randn(90, 1)\n",
        "\n",
        "# dev data:\n",
        "x_dev_data = torch.randn(10, 10)\n",
        "y_dev_data = torch.randn(10, 1)\n",
        "\n",
        "# test data:\n",
        "x_test_data = torch.randn(10, 10)\n",
        "y_test_data = torch.randn(10, 1)\n",
        "\n"
      ]
    },
    {
      "cell_type": "markdown",
      "metadata": {
        "id": "79_tCTbKa_Go"
      },
      "source": [
        "This time we don't need to initialize the weight and bias manually. Instead, we will define the model using the built-in [torch.nn.Linear](https://pytorch.org/docs/stable/nn.html#linear).\n",
        "\n",
        "[**torch.nn**](https://pytorch.org/docs/stable/nn.html) is a subpackage that contains modules and extensible classes for us to build neural networks.\n",
        "\n"
      ]
    },
    {
      "cell_type": "code",
      "execution_count": null,
      "metadata": {
        "colab": {
          "base_uri": "https://localhost:8080/"
        },
        "id": "rA8sqMF_bOSL",
        "outputId": "d90ac406-cf65-48dc-829a-5fe6a8f593dd"
      },
      "outputs": [
        {
          "output_type": "stream",
          "name": "stdout",
          "text": [
            "Parameter containing:\n",
            "tensor([[-0.0984,  0.0548, -0.0998,  0.2443,  0.0548,  0.1346,  0.0940,  0.0825,\n",
            "          0.0360, -0.1208]], requires_grad=True)\n",
            "Parameter containing:\n",
            "tensor([0.0923], requires_grad=True)\n"
          ]
        }
      ],
      "source": [
        "# Define model\n",
        "linearRegression =  nn.Linear(10,1)\n",
        "print(linearRegression.weight)\n",
        "print(linearRegression.bias)"
      ]
    },
    {
      "cell_type": "markdown",
      "metadata": {
        "id": "D4UxFi0bbeC3"
      },
      "source": [
        "Similarly, we don't manually update the weight and bias using gradients by ourselves. Instead, we will use the optimizer optim.SGD.\n",
        "\n",
        "[**torch.optim**](https://pytorch.org/docs/stable/optim.html) is a subpackage that contains the standard optimization operations like Adam and SGD.\n",
        "\n"
      ]
    },
    {
      "cell_type": "code",
      "execution_count": null,
      "metadata": {
        "id": "k62ayy77bu5W"
      },
      "outputs": [],
      "source": [
        "# Define optimizer\n",
        "# Just pass the model parameters to be updated and specify the learning rate when calling optim.SGD\n",
        "# In PyTorch, 'SGD' uses Mini-batch Gradient Descent with momentum (not the simplest SGD).\n",
        "# In this case, we set the mini-batch size to be the size of our data,\n",
        "# so it is actually Batch Gradient Descent with momentum.\n",
        "optimizer = torch.optim.SGD(linearRegression.parameters(), lr=1e-5)"
      ]
    },
    {
      "cell_type": "markdown",
      "metadata": {
        "id": "vfKM513UcH-4"
      },
      "source": [
        "Again, we use the built-in loss function mse_loss instead of defining it manually.\n",
        "\n",
        "We will need the [**torch.nn.functional**](https://pytorch.org/docs/stable/nn.functional.html) interface, which contains common operations for building neural networks, e.g., convolution operations, activation functions, and loss functions."
      ]
    },
    {
      "cell_type": "code",
      "execution_count": null,
      "metadata": {
        "colab": {
          "base_uri": "https://localhost:8080/"
        },
        "id": "sKWCYuiocOUS",
        "outputId": "6f58e8e9-f835-4dac-f0c4-5e89c64d1350"
      },
      "outputs": [
        {
          "output_type": "stream",
          "name": "stdout",
          "text": [
            "tensor(0.9346, grad_fn=<MseLossBackward0>)\n"
          ]
        }
      ],
      "source": [
        "# Import nn.functional \n",
        "import torch.nn.functional as F\n",
        "\n",
        "# Define the loss function\n",
        "loss_func = F.mse_loss\n",
        "\n",
        "# Calculate loss\n",
        "loss = loss_func(linearRegression(x_data), y_data)\n",
        "print(loss)"
      ]
    },
    {
      "cell_type": "markdown",
      "metadata": {
        "id": "l1pjqzZCNJgJ"
      },
      "source": [
        "Now we are ready to run a loop to train the model:"
      ]
    },
    {
      "cell_type": "code",
      "execution_count": null,
      "metadata": {
        "colab": {
          "base_uri": "https://localhost:8080/"
        },
        "id": "xbYtLruwwRfr",
        "outputId": "425e0148-e3f2-499b-f240-5a55d6c2af14"
      },
      "outputs": [
        {
          "output_type": "stream",
          "name": "stdout",
          "text": [
            "Epoch: 0000 dev loss= 0.71956939\n",
            "Epoch: 0200 dev loss= 0.71920079\n",
            "Epoch: 0400 dev loss= 0.71883750\n",
            "Epoch: 0600 dev loss= 0.71848023\n",
            "Epoch: 0800 dev loss= 0.71812856\n",
            "Epoch: 1000 dev loss= 0.71778238\n",
            "Epoch: 1200 dev loss= 0.71744186\n",
            "Epoch: 1400 dev loss= 0.71710640\n",
            "Epoch: 1600 dev loss= 0.71677643\n",
            "Epoch: 1800 dev loss= 0.71645176\n",
            "Epoch: 2000 dev loss= 0.71613252\n",
            "Epoch: 2200 dev loss= 0.71581858\n",
            "Epoch: 2400 dev loss= 0.71550983\n",
            "Epoch: 2600 dev loss= 0.71520627\n",
            "Epoch: 2800 dev loss= 0.71490753\n",
            "Epoch: 3000 dev loss= 0.71461397\n",
            "Epoch: 3200 dev loss= 0.71432531\n",
            "Epoch: 3400 dev loss= 0.71404189\n",
            "Epoch: 3600 dev loss= 0.71376342\n",
            "Epoch: 3800 dev loss= 0.71348965\n",
            "Epoch: 4000 dev loss= 0.71322078\n",
            "Epoch: 4200 dev loss= 0.71295649\n",
            "Epoch: 4400 dev loss= 0.71269727\n",
            "Epoch: 4600 dev loss= 0.71244258\n",
            "Epoch: 4800 dev loss= 0.71219289\n",
            "=========================================================\n",
            "Optimised: training loss= 1.079798937\n",
            "Optimised: dev loss= 0.711948812\n",
            "Testing loss= 0.977692723\n",
            "Absolute mean square loss difference: 0.265743911\n"
          ]
        }
      ],
      "source": [
        "# An epoch is one iteration over the entire input data\n",
        "no_of_epochs = 5000\n",
        "# How often you want to display training info.\n",
        "display_interval = 200\n",
        "\n",
        "for epoch in range(no_of_epochs):\n",
        "  predictions = linearRegression(x_data)\n",
        "  loss = loss_func(predictions, y_data)\n",
        "  loss.backward()\n",
        "  optimizer.step() #call step() to automatically update the parameters through our defined optimizer, which can be called once after backward()\n",
        "  optimizer.zero_grad() #reset the gradient as what we did before\n",
        "  if epoch % display_interval == 0 :\n",
        "      # calculate the loss of the current model\n",
        "      predictions = linearRegression(x_dev_data)\n",
        "      loss = loss_func(predictions, y_dev_data)          \n",
        "      print(\"Epoch:\", '%04d' % (epoch), \"dev loss=\", \"{:.8f}\".format(loss))\n",
        "\n",
        "print(\"=========================================================\")\n",
        "training_loss = mse(linearRegression(x_data), y_data)   \n",
        "print(\"Optimised:\", \"training loss=\", \"{:.9f}\".format(training_loss.data))\n",
        "training_loss = mse(linearRegression(x_dev_data), y_dev_data)   \n",
        "print(\"Optimised:\", \"dev loss=\", \"{:.9f}\".format(training_loss.data))\n",
        "print(\"=========================================================\")\n",
        "\n",
        "# Calculate testing loss\n",
        "testing_loss = loss_func(linearRegression(x_test_data), y_test_data) \n",
        "print(\"Testing loss=\", \"{:.9f}\".format(testing_loss.data))\n",
        "print(\"Absolute mean square loss difference:\", \"{:.9f}\".format(abs(\n",
        "      training_loss.data - testing_loss.data)))"
      ]
    },
    {
      "cell_type": "markdown",
      "metadata": {
        "id": "7g3eNemEOklg"
      },
      "source": [
        "# NLTK Library and WordNet"
      ]
    },
    {
      "cell_type": "markdown",
      "metadata": {
        "id": "D8btJKEBxSS1"
      },
      "source": [
        "WordNet® is a large lexical database of English. Nouns, verbs, adjectives and adverbs are grouped into sets of  synonyms (synsets), each expressing a distinct concept."
      ]
    },
    {
      "cell_type": "markdown",
      "metadata": {
        "id": "ofWRw7omOeWf"
      },
      "source": [
        "In Python, **[NLTK](https://www.nltk.org/)** (**N**atural **L**anguage **T**ool**k**it) includes English WordNet. NLTK is an excellent educational resource. It has many convenient modules for NLP tasks, and is well documented. However, most of its componenets are far from state-of-the-art in accuracy and speed.\n",
        "\n",
        "**To use wordnet, you need to download the wordnet data via the NLTK library**"
      ]
    },
    {
      "cell_type": "code",
      "execution_count": null,
      "metadata": {
        "id": "iVqxuaIpOIOl"
      },
      "outputs": [],
      "source": [
        "import nltk"
      ]
    },
    {
      "cell_type": "markdown",
      "metadata": {
        "id": "I2cusD7IovCi"
      },
      "source": [
        "## WordNet"
      ]
    },
    {
      "cell_type": "code",
      "execution_count": null,
      "metadata": {
        "colab": {
          "base_uri": "https://localhost:8080/"
        },
        "id": "OuDwzN6OosjB",
        "outputId": "b9fc80c6-4fb3-4d82-f64f-3a4377b855c4"
      },
      "outputs": [
        {
          "output_type": "stream",
          "name": "stderr",
          "text": [
            "[nltk_data] Downloading package wordnet to /root/nltk_data...\n",
            "[nltk_data] Downloading package omw-1.4 to /root/nltk_data...\n"
          ]
        },
        {
          "output_type": "execute_result",
          "data": {
            "text/plain": [
              "True"
            ]
          },
          "metadata": {},
          "execution_count": 27
        }
      ],
      "source": [
        "nltk.download('wordnet')\n",
        "nltk.download('omw-1.4')"
      ]
    },
    {
      "cell_type": "code",
      "execution_count": null,
      "metadata": {
        "id": "1JKvb0XKNzxw"
      },
      "outputs": [],
      "source": [
        "from nltk.corpus import wordnet as wn"
      ]
    },
    {
      "cell_type": "markdown",
      "metadata": {
        "id": "ucVb1XeAnnFo"
      },
      "source": [
        "Let's get a set of synonyms that share a common meaning.\n",
        "\n",
        "Note that we specify particular sesnes/meanings of each word here (the '01')."
      ]
    },
    {
      "cell_type": "code",
      "execution_count": null,
      "metadata": {
        "id": "ecoLLQPlxlOc"
      },
      "outputs": [],
      "source": [
        "dog = wn.synset('dog.n.01')\n",
        "person = wn.synset('person.n.01')\n",
        "cat = wn.synset('cat.n.01')\n",
        "computer = wn.synset('computer.n.01')"
      ]
    },
    {
      "cell_type": "markdown",
      "metadata": {
        "id": "P4rd7JPrr4sc"
      },
      "source": [
        "### path_similarity()\n",
        "path_similarity() returns a score denoting how similar two word senses are, based on the shortest path that connects the senses in the is-a (hypernym/hypnoym) taxonomy. The score is in the range 0 to 1."
      ]
    },
    {
      "cell_type": "code",
      "execution_count": null,
      "metadata": {
        "colab": {
          "base_uri": "https://localhost:8080/"
        },
        "id": "aiTFSsHqsREt",
        "outputId": "32e9eeb9-c2c1-45a7-c34a-5c961318817d"
      },
      "outputs": [
        {
          "output_type": "stream",
          "name": "stdout",
          "text": [
            "dog<->cat :  0.2\n",
            "person<->cat :  0.1\n",
            "person<->dog :  0.2\n",
            "person<->computer :  0.1111111111111111\n"
          ]
        }
      ],
      "source": [
        "print(\"dog<->cat : \", wn.path_similarity(dog,cat))\n",
        "print(\"person<->cat : \", wn.path_similarity(person,cat))\n",
        "print(\"person<->dog : \", wn.path_similarity(person,dog))\n",
        "print(\"person<->computer : \", wn.path_similarity(person,computer))"
      ]
    },
    {
      "cell_type": "markdown",
      "metadata": {
        "id": "rJfYbAtPrMNS"
      },
      "source": [
        "### Wu-Palmer Similarity (wup_similarity() )\n",
        "wup_similarity() returns a score denoting how similar two word senses are, based on the depth of the two senses in the taxonomy and that of their Least Common Subsumer / Lowest Common Ancestor (ie., the most specific word that is an ancestor of both words)."
      ]
    },
    {
      "cell_type": "code",
      "execution_count": null,
      "metadata": {
        "colab": {
          "base_uri": "https://localhost:8080/"
        },
        "id": "Jno6d9Mdrbu0",
        "outputId": "fa2d0a11-db70-47ff-eb26-10f683fcfe54"
      },
      "outputs": [
        {
          "output_type": "stream",
          "name": "stdout",
          "text": [
            "dog<->cat :  0.8571428571428571\n",
            "person<->cat :  0.5714285714285714\n",
            "person<->dog :  0.75\n",
            "person<->computer :  0.5\n"
          ]
        }
      ],
      "source": [
        "print(\"dog<->cat : \", wn.wup_similarity(dog,cat))\n",
        "print(\"person<->cat : \", wn.wup_similarity(person,cat))\n",
        "print(\"person<->dog : \", wn.wup_similarity(person,dog))\n",
        "print(\"person<->computer : \", wn.wup_similarity(person,computer))"
      ]
    },
    {
      "cell_type": "markdown",
      "metadata": {
        "id": "RVtVC7LnqS9T"
      },
      "source": [
        "# TFIDF (Term Frequency Inverse Document Frequency)\n",
        "\n",
        "TFIDF is a statistical measure used to evaluate how important a word is to a document in a collection or corpus. The importance increases proportionally to the number of times a word appears in the document but is offset by the frequency of the word in the corpus.\n",
        "\n",
        "\n",
        "**Tokenization**"
      ]
    },
    {
      "cell_type": "code",
      "execution_count": null,
      "metadata": {
        "colab": {
          "base_uri": "https://localhost:8080/"
        },
        "id": "hcjJPxPIHsVo",
        "outputId": "e01b821a-a845-4024-eecd-bb9ee96ff7ca"
      },
      "outputs": [
        {
          "output_type": "stream",
          "name": "stderr",
          "text": [
            "[nltk_data] Downloading package punkt to /root/nltk_data...\n",
            "[nltk_data]   Unzipping tokenizers/punkt.zip.\n"
          ]
        },
        {
          "output_type": "stream",
          "name": "stdout",
          "text": [
            "\n",
            "tokenized_sentence: \n",
            "['Jonathan loves  NLP.', 'NLP teaches Jonathan']\n",
            "\n",
            "punc_free_sentence: \n",
            "Jonathan loves  NLP NLP teaches Jonathan\n",
            "\n",
            "tokenized_word: \n",
            "['Jonathan', 'loves', 'NLP', 'NLP', 'teaches', 'Jonathan']\n",
            "\n",
            "lower_case: \n",
            "['jonathan', 'loves', 'nlp', 'nlp', 'teaches', 'jonathan']\n",
            "\n",
            "tokenized_word (in lower case, w/o stopwords): \n",
            "['jonathan', 'loves', 'nlp', 'nlp', 'teaches', 'jonathan']\n",
            "\n",
            "final_docs: \n",
            "['jonathan', 'loves', 'nlp', 'nlp', 'teaches', 'jonathan']\n",
            "['jonathan', 'teaches', 'nlp']\n"
          ]
        },
        {
          "output_type": "stream",
          "name": "stderr",
          "text": [
            "[nltk_data] Downloading package stopwords to /root/nltk_data...\n",
            "[nltk_data]   Unzipping corpora/stopwords.zip.\n"
          ]
        }
      ],
      "source": [
        "import nltk\n",
        "nltk.download('punkt')\n",
        "from nltk.tokenize import word_tokenize, sent_tokenize\n",
        "\n",
        "import re\n",
        "import numpy as np\n",
        "\n",
        "nltk.download('stopwords')\n",
        "from nltk.corpus import stopwords as sw\n",
        "\n",
        "corpus = [\n",
        "    'Jonathan loves  NLP. NLP teaches Jonathan', #document 1\n",
        "    'Jonathan teaches NLP' #document 2\n",
        "]\n",
        "\n",
        "# Tokenize sentences - for only doc1\n",
        "tokenized_sentence = sent_tokenize(corpus[0])\n",
        "print(\"\\ntokenized_sentence: \")\n",
        "print(tokenized_sentence)\n",
        "\n",
        "# Remove punctuations - for only doc1\n",
        "punc_free_doc1 = re.sub(r'[^\\w\\s]','',corpus[0])\n",
        "print(\"\\npunc_free_sentence: \")\n",
        "print(punc_free_doc1)\n",
        "\n",
        "# Tokenize words - for only doc1\n",
        "tokenized_doc1 = word_tokenize(punc_free_doc1)\n",
        "print(\"\\ntokenized_word: \")\n",
        "print(tokenized_doc1)\n",
        "\n",
        "# Convert the tokens into lowercase: lower_tokens\n",
        "lower_tokens = [t.lower() for t in tokenized_doc1]\n",
        "print(\"\\nlower_case: \")\n",
        "print(lower_tokens)\n",
        "\n",
        "# stop word removal \n",
        "sww = sw.words()\n",
        "tokenized_doc1 = [w for w in lower_tokens if not w in sww]\n",
        "print(\"\\ntokenized_word (in lower case, w/o stopwords): \")\n",
        "print(tokenized_doc1)\n",
        "\n",
        "# same process for doc2\n",
        "punc_free_doc2 = re.sub(r'[^\\w\\s]','',corpus[1])\n",
        "tokenized_doc2 = word_tokenize(punc_free_doc2)\n",
        "lower_tokens2 = [t.lower() for t in tokenized_doc2]\n",
        "tokenized_doc2 = [w for w in lower_tokens2 if not w in sww]\n",
        "\n",
        "tokenized_docs = [tokenized_doc1, tokenized_doc2]\n",
        "print(\"\\nfinal_docs: \")\n",
        "print(tokenized_docs[0])\n",
        "print(tokenized_docs[1])"
      ]
    },
    {
      "cell_type": "markdown",
      "metadata": {
        "id": "NSeX6VnhTeA5"
      },
      "source": [
        "**Document Frequency (DF)**\n",
        "\n",
        "N is the number of documents in the collection.\n",
        "\n",
        "DF is how many documents in the collection contain a specific word.\n",
        "\n",
        "*df(t) = occurrence of t in documents*\n",
        "\n",
        "*idf(t) = log(N/(df + 1))*\n",
        "\n"
      ]
    },
    {
      "cell_type": "code",
      "execution_count": null,
      "metadata": {
        "colab": {
          "base_uri": "https://localhost:8080/"
        },
        "id": "aEOTCuiZTdl6",
        "outputId": "0f83e395-ce45-45d5-ecda-2666f40af83c"
      },
      "outputs": [
        {
          "output_type": "execute_result",
          "data": {
            "text/plain": [
              "{'jonathan': 2, 'loves': 1, 'nlp': 2, 'teaches': 2}"
            ]
          },
          "metadata": {},
          "execution_count": 33
        }
      ],
      "source": [
        "DF = {}\n",
        "\n",
        "for tokenized_doc in tokenized_docs:\n",
        "  # get each unique word in the doc - and count the number of occurrences in the document\n",
        "  for term in np.unique(tokenized_doc):\n",
        "    if term in DF:\n",
        "      DF[term] += 1\n",
        "    else:\n",
        "      DF[term] = 1\n",
        "\n",
        "DF"
      ]
    },
    {
      "cell_type": "code",
      "execution_count": null,
      "metadata": {
        "colab": {
          "base_uri": "https://localhost:8080/"
        },
        "id": "G6s15-FpdhrM",
        "outputId": "0ea6731d-3092-478e-f30f-3b74455b012e"
      },
      "outputs": [
        {
          "output_type": "execute_result",
          "data": {
            "text/plain": [
              "2"
            ]
          },
          "metadata": {},
          "execution_count": 34
        }
      ],
      "source": [
        "DF['jonathan']"
      ]
    },
    {
      "cell_type": "markdown",
      "metadata": {
        "id": "AEpq2ws8Lsos"
      },
      "source": [
        "**TF-IDF calculation**"
      ]
    },
    {
      "cell_type": "markdown",
      "metadata": {
        "id": "K9QHJ8gA1iMO"
      },
      "source": [
        "In the following sample code, we will use [Counter](https://docs.python.org/3/library/collections.html#collections.Counter) to count how often each word occurs in a document. [Counter](https://docs.python.org/3/library/collections.html#collections.Counter) is a Python class that enables counting for elements from an iterable."
      ]
    },
    {
      "cell_type": "code",
      "execution_count": null,
      "metadata": {
        "colab": {
          "base_uri": "https://localhost:8080/"
        },
        "id": "tNeraCvfIO3E",
        "outputId": "9013b962-f5ae-4f51-8d26-7f045d310fb0"
      },
      "outputs": [
        {
          "output_type": "execute_result",
          "data": {
            "text/plain": [
              "{(0, 'jonathan'): 0.19817829729727854,\n",
              " (0, 'loves'): 0.16666666666666666,\n",
              " (0, 'nlp'): 0.19817829729727854,\n",
              " (0, 'teaches'): 0.09908914864863927,\n",
              " (1, 'jonathan'): 0.19817829729727854,\n",
              " (1, 'nlp'): 0.19817829729727854,\n",
              " (1, 'teaches'): 0.19817829729727854}"
            ]
          },
          "metadata": {},
          "execution_count": 35
        }
      ],
      "source": [
        "from nltk.corpus import stopwords\n",
        "from nltk.tokenize import word_tokenize\n",
        "from collections import Counter\n",
        "import math\n",
        "\n",
        "tf_idf = {}\n",
        "\n",
        "# total number of documents\n",
        "N = len(tokenized_docs) \n",
        "\n",
        "doc_id = 0\n",
        "# get each tokenised doc\n",
        "for tokenized_doc in tokenized_docs:\n",
        "    # initialise counter for the doc\n",
        "    counter = Counter(tokenized_doc)\n",
        "    # calculate the total number of words in the doc\n",
        "    total_num_words = len(tokenized_doc)    \n",
        "\n",
        "    # get each unique word in the doc\n",
        "    for term in np.unique(tokenized_doc): \n",
        "\n",
        "        # calculate Term Frequency \n",
        "        tf = counter[term]/total_num_words\n",
        "        \n",
        "        # get the Document Frequency\n",
        "        df = DF[term]\n",
        "\n",
        "        # calculate Inverse Document Frequency with smoothing (the +1)\n",
        "        idf = math.log(N/(df+1))+1\n",
        "\n",
        "        # calculate TF-IDF\n",
        "        tf_idf[doc_id, term] = tf*idf\n",
        "\n",
        "    doc_id += 1 \n",
        "\n",
        "tf_idf"
      ]
    },
    {
      "cell_type": "markdown",
      "metadata": {
        "id": "tETfBpygMC-u"
      },
      "source": [
        "**Sort by the importance - Descending Order**"
      ]
    },
    {
      "cell_type": "markdown",
      "metadata": {
        "id": "hAB7bU-15uK1"
      },
      "source": [
        "Use the Python built-in function [sorted](https://docs.python.org/3/howto/sorting.html) to sort the words based on their tf_idf values."
      ]
    },
    {
      "cell_type": "code",
      "execution_count": null,
      "metadata": {
        "colab": {
          "base_uri": "https://localhost:8080/"
        },
        "id": "0R4BI1-UH35-",
        "outputId": "96b818b2-3031-4ff3-a99d-d92a73eca681"
      },
      "outputs": [
        {
          "output_type": "execute_result",
          "data": {
            "text/plain": [
              "[((0, 'jonathan'), 0.19817829729727854),\n",
              " ((0, 'nlp'), 0.19817829729727854),\n",
              " ((1, 'jonathan'), 0.19817829729727854),\n",
              " ((1, 'nlp'), 0.19817829729727854),\n",
              " ((1, 'teaches'), 0.19817829729727854),\n",
              " ((0, 'loves'), 0.16666666666666666),\n",
              " ((0, 'teaches'), 0.09908914864863927)]"
            ]
          },
          "metadata": {},
          "execution_count": 36
        }
      ],
      "source": [
        "import numpy as np\n",
        "#sort the dictionary based on values\n",
        "dict_exmaple = tf_idf\n",
        "sorted_dict = sorted(dict_exmaple.items(), key=lambda x: x[1], reverse=True) \n",
        "sorted_dict"
      ]
    },
    {
      "cell_type": "markdown",
      "metadata": {
        "id": "aqD22EW5PZRa"
      },
      "source": [
        "# Exercise\n",
        "Please complete the following **two questions** E1 and E2. **You should submit an \"ipynb\" file to Canvas**  (When you have completed your answer here you can download it using \"File\" > \"Download .ipynb\")."
      ]
    },
    {
      "cell_type": "markdown",
      "metadata": {
        "id": "KF-vRmAYVpMk"
      },
      "source": [
        "##E1. What is the main limitations of using a one-hot encoding? (Full Mark: 1 mark. There is no partial mark.) \n",
        "In order to receive full marks, please write down your answer below with **a supportive example**, using your own words."
      ]
    },
    {
      "cell_type": "code",
      "execution_count": null,
      "metadata": {
        "id": "jMj_HobwXgR8"
      },
      "outputs": [],
      "source": [
        "#Lab01 - E1\n",
        "\n",
        "Answer = \"One -hot encoding cannot represent the similarity between two words such as synonym.  Moreover, for a document with a large amount of words, one-hot encoding may make use of vectors with very high dimensions, which might induce low calculation efficiency\" #@param {type:\"raw\"}"
      ]
    },
    {
      "cell_type": "markdown",
      "metadata": {
        "id": "QrR8UAazCmhh"
      },
      "source": [
        "## E2. Calculate TF-IDF and search the Wiki page. (Full Mark: 1 mark. There is no partial mark.)\n",
        "- You need to complete the following 'Exercise Requirement'"
      ]
    },
    {
      "cell_type": "markdown",
      "metadata": {
        "id": "QeabiwhlCp1r"
      },
      "source": [
        "In this exercise, we will practise calculating TF-IDF using documents from [wikipedia library](https://pypi.org/project/wikipedia/), a Python library that makes it easy to access and parse data from Wikipedia. Based on the calculated TF-IDF values, we then search the Wiki page for the word that has the highest TF-IDF value."
      ]
    },
    {
      "cell_type": "code",
      "execution_count": null,
      "metadata": {
        "colab": {
          "base_uri": "https://localhost:8080/"
        },
        "id": "5uCnYfdxCl82",
        "outputId": "c38d77f8-a4af-4cb5-bba6-eab9edee7e9d"
      },
      "outputs": [
        {
          "output_type": "stream",
          "name": "stdout",
          "text": [
            "Looking in indexes: https://pypi.org/simple, https://us-python.pkg.dev/colab-wheels/public/simple/\n",
            "Collecting wikipedia\n",
            "  Downloading wikipedia-1.4.0.tar.gz (27 kB)\n",
            "  Preparing metadata (setup.py) ... \u001b[?25l\u001b[?25hdone\n",
            "Requirement already satisfied: beautifulsoup4 in /usr/local/lib/python3.8/dist-packages (from wikipedia) (4.6.3)\n",
            "Requirement already satisfied: requests<3.0.0,>=2.0.0 in /usr/local/lib/python3.8/dist-packages (from wikipedia) (2.25.1)\n",
            "Requirement already satisfied: chardet<5,>=3.0.2 in /usr/local/lib/python3.8/dist-packages (from requests<3.0.0,>=2.0.0->wikipedia) (4.0.0)\n",
            "Requirement already satisfied: urllib3<1.27,>=1.21.1 in /usr/local/lib/python3.8/dist-packages (from requests<3.0.0,>=2.0.0->wikipedia) (1.24.3)\n",
            "Requirement already satisfied: certifi>=2017.4.17 in /usr/local/lib/python3.8/dist-packages (from requests<3.0.0,>=2.0.0->wikipedia) (2022.12.7)\n",
            "Requirement already satisfied: idna<3,>=2.5 in /usr/local/lib/python3.8/dist-packages (from requests<3.0.0,>=2.0.0->wikipedia) (2.10)\n",
            "Building wheels for collected packages: wikipedia\n",
            "  Building wheel for wikipedia (setup.py) ... \u001b[?25l\u001b[?25hdone\n",
            "  Created wheel for wikipedia: filename=wikipedia-1.4.0-py3-none-any.whl size=11695 sha256=1affa2cd9540d8d04f1b3118a5b83912e83539973409fac97b2dd2dbddf5d6e5\n",
            "  Stored in directory: /root/.cache/pip/wheels/07/93/05/72c05349177dca2e0ba31a33ba4f7907606f7ddef303517c6a\n",
            "Successfully built wikipedia\n",
            "Installing collected packages: wikipedia\n",
            "Successfully installed wikipedia-1.4.0\n"
          ]
        }
      ],
      "source": [
        "## Install and import the wikipedia library\n",
        "!pip install wikipedia\n",
        "import wikipedia"
      ]
    },
    {
      "cell_type": "code",
      "execution_count": null,
      "metadata": {
        "colab": {
          "base_uri": "https://localhost:8080/"
        },
        "id": "dKLjm5r2A9J1",
        "outputId": "8ac68506-1aa3-477f-f09d-35cfb7b26857"
      },
      "outputs": [
        {
          "output_type": "stream",
          "name": "stdout",
          "text": [
            "Sydney ( (listen) SID-nee) is the capital city of the state of New\n",
            "South Wales, and the most populous city in both Australia and Oceania.\n",
            "Located on Australia's east coast, the metropolis surrounds Sydney\n",
            "Harbour and extends about 70 km (43.5 mi) towards the Blue Mountains\n",
            "to the west, Hawkesbury to the north, the Royal National Park to the\n",
            "south and Macarthur to the south-west. Sydney is made up\n",
            "\n",
            "Melbourne ( (listen) MEL-bərn; Boonwurrung/Woiwurrung: Narrm or Naarm)\n",
            "is the capital and most populous city of the Australian state of\n",
            "Victoria, and the second-most populous city in both Australia and\n",
            "Oceania. Its name generally refers to a 9,993 km2 (3,858 sq mi)\n",
            "metropolitan area known as Greater Melbourne, comprising an urban\n",
            "agglomeration of 31 local municipalities, although the name is also\n",
            "\n",
            "Brisbane ( (listen) BRIZ-bən) is the capital and most populous city of\n",
            "Queensland, and the third-most populous city in Australia and Oceania\n",
            "with a population of approximately 2.6 million. Brisbane lies at the\n",
            "centre of South East Queensland, which includes several other regional\n",
            "centres and cities. The central business district is situated within a\n",
            "peninsula of the Brisbane River about 15 km (9 m\n",
            "\n"
          ]
        }
      ],
      "source": [
        "# Let's collect the page content from the following city related wiki pages as documents\n",
        "# by using wikipedia.page(city).content, which returns a list of city related documents \n",
        "cities_docs = [\"Sydney\",\"Melbourne\",\"Brisbane\"]\n",
        "documents = [wikipedia.page(city).content for city in cities_docs]\n",
        "\n",
        "# Let's see a sample of the documents (pages) we got\n",
        "# We'll use a convenient library for printing with wordwrap\n",
        "import textwrap\n",
        "for doc in documents:\n",
        "  sample = doc[:400]\n",
        "  print(\"\\n\".join(textwrap.wrap(sample)))\n",
        "  print()"
      ]
    },
    {
      "cell_type": "markdown",
      "metadata": {
        "id": "s1uY8quh5WpN"
      },
      "source": [
        "***Among those three wiki page contents we retrieved, what do you think are the most important words?***"
      ]
    },
    {
      "cell_type": "markdown",
      "metadata": {
        "id": "mpAB7FQkC9wo"
      },
      "source": [
        "### Exercise Requirement"
      ]
    },
    {
      "cell_type": "markdown",
      "metadata": {
        "id": "ZcO1J4dCDBRa"
      },
      "source": [
        "Below are comments outlining the structure of the exercise. Please fill in the following function(s): \n",
        "\n",
        "First, pass the (list of) documents provided above into the `tfidf_wikisearch` function as input. In the function, you may:\n",
        "  \n",
        "*   process the documents provided in the sample code above (e.g. tokenise them). **Please add three additional stop words: sydney, melbourne and brisbane.**\n",
        "*   calculate the TF-IDF values for each unique word ([Counter](https://docs.python.org/3/library/collections.html#collections.Counter) is useful here).\n",
        "*   sort the words based on the TF-IDF values and get the word with the highest TF-IDF value. (The Python built-in function [sorted](https://docs.python.org/3/howto/sorting.html) might be helpful)\n",
        "*   search the wiki page for this word and print out the page content (See above for how we search and retrieve the wiki page content for the city documents) \n",
        "\n",
        "In your final submission, the **print log should be kept in the cell execution output field**. You should **submit an \"ipynb\" file to Canvas** (You can download it using \"File\" > \"Download .ipynb\"). \n",
        "\n",
        "Note that the marker will run **only the cell below**, so:\n",
        "*  Remember to include (import) all the dependencies/packages in order to successfully run your code in the function cell in your submission.\n",
        "*  You can write extra functions if you need, but remember to include the functions in this section for final submission.\n",
        "\n",
        "\n",
        "\n",
        "  \n",
        "  \n",
        "  "
      ]
    },
    {
      "cell_type": "code",
      "execution_count": null,
      "metadata": {
        "id": "zolBqIYrC4zP",
        "colab": {
          "base_uri": "https://localhost:8080/"
        },
        "outputId": "48257b3d-df09-4964-f35f-ca65eb3ecc65"
      },
      "outputs": [
        {
          "output_type": "stream",
          "name": "stderr",
          "text": [
            "[nltk_data] Downloading package punkt to /root/nltk_data...\n",
            "[nltk_data]   Package punkt is already up-to-date!\n"
          ]
        },
        {
          "output_type": "stream",
          "name": "stdout",
          "text": [
            "\n",
            "\n",
            "Total docs in documents:  3\n",
            "\n",
            "\n",
            "The word with top-1 TF-IDF value is:  queensland\n",
            "\n",
            "\n",
            "The retrieved wiki page content: \n",
            "\n",
            "\n",
            "Queensland (locally  KWEENZ-land) is a state situated in northeastern Australia, and is the second-largest and third-most populous of the Australian states. It is bordered by the Northern Territory, South Australia and New South Wales to the west, southwest and south respectively. To the east, Queensland is bordered by the Coral Sea and the Pacific Ocean; to its north is the Torres Strait, separating the Australian mainland from Papua New Guinea. With an area of 1,852,642 square kilometres (715,309 sq mi), Queensland is the world's sixth-largest sub-national entity; it is larger than all but 15 countries. Due to its size, Queensland's geographical features and climates are diverse, including tropical rainforests, rivers, coral reefs, mountain ranges and sandy beaches in its tropical and sub-tropical coastal regions, as well as deserts and savanna in the semi-arid and desert climatic regions of its interior.\n",
            "Queensland has a population of over 5.2 million, concentrated along the coast and particularly in South East Queensland. The capital and largest city in the state is Brisbane, Australia's third-largest city. Ten of Australia's thirty largest cities are located in Queensland, with the largest outside Brisbane being the Gold Coast, the Sunshine Coast, Townsville, Cairns, Ipswich, and Toowoomba. The state's population is multicultural, with 28.9% of inhabitants being immigrants.Queensland was first inhabited by Aboriginal Australians and Torres Strait Islanders. Dutch navigator Willem Janszoon, the first European to land in Australia, explored the west coast of the Cape York Peninsula in 1606. In 1770, James Cook claimed the east coast of Australia for the Kingdom of Great Britain. In 1788, Arthur Phillip founded the colony of New South Wales, which included all of what is now Queensland. Queensland was explored in subsequent decades, and the Moreton Bay Penal Settlement was established at Brisbane in 1824 by John Oxley. On 6 June 1859 (now commemorate as Queensland Day), Queen Victoria signed the Letters Patent to establish the colony of Queensland, separating it from New South Wales and thereby establishing Queensland as a self-governing Crown colony with responsible government. Queensland was among the six colonies which became the founding states of Australia with Federation on 1 January 1901. Since the Bjelke-Petersen era of the late 20th century, Queensland has received a high level of internal migration from the other states and territories of Australia and remains a popular destination for interstate migration.\n",
            "Queensland has the third-largest economy among Australian states, with strengths in mining, agriculture, transportation, international education, insurance and banking. Nicknamed the Sunshine State for its tropical and sub-tropical climates, Great Barrier Reef and numerous beaches, tourism is also important to the state's economy.\n",
            "\n",
            "\n",
            "== History ==\n",
            "\n",
            "\n",
            "=== Indigenous history ===\n",
            "\n",
            "The Aboriginal occupation of Queensland is thought to predate 50,000 BC, likely via boat or land bridge across Torres Strait, and became divided into over 90 different language groups.\n",
            "During the last ice age, Queensland's landscape became more arid and largely desolate, making food and other supplies scarce, which led to the world's first seed-grinding technology. The end of the glacial period brought about a warming climate, again making the land hospitable, as it brought high rainfall along the eastern coast, stimulating the growth of the state's tropical rainforests.\n",
            "\n",
            "\n",
            "=== European colonisation ===\n",
            "\n",
            "In February 1606, Dutch navigator Willem Janszoon landed near the site of what is now Weipa, on the western shore of Cape York. This was the first recorded landing of a European in Australia, and it also marked the first reported contact between European and the Aboriginal people of Australia. The region was also explored by French and Spanish explorers (commanded by Louis Antoine de Bougainville and Luís Vaez de Torres, respectively) prior to the arrival of Lieutenant James Cook in 1770. Cook claimed the east coast under instruction from King George III of the Kingdom of Great Britain on 22 August 1770 at Possession Island, naming Eastern Australia, including Queensland, 'New South Wales'.The Aboriginal population declined significantly after a smallpox epidemic during the late 18th century. There has been controversy regarding the origins of smallpox in Australia; while many sources have claimed that it originated with European colonisation, this theory has been contradicted by scientific evidence. There is circumstantial evidence that Macassan mariners visiting Arnhem Land introduced smallpox to Australia.In 1823, John Oxley, a British explorer, sailed north from what is now Sydney to scout possible penal colony sites in Gladstone (then Port Curtis) and Moreton Bay. At Moreton Bay, he found the Brisbane River. He returned in 1824 and established a penal settlement at what is now Redcliffe. The settlement, initially known as Edenglassie, was then transferred to the current location of the Brisbane city centre. Edmund Lockyer discovered outcrops of coal along the banks of the upper Brisbane River in 1825. In 1839 transportation of convicts was ceased, culminating in the closure of the Brisbane penal settlement. In 1842 free settlement, which had already commenced, was officially permitted. In 1847, the Port of Maryborough was opened as a wool port. While most early immigrants came from New South Wales, the first free immigrant ship to arrive in Moreton Bay from Europe was the Artemisia, in 1848. In 1857, Queensland's first lighthouse was built at Cape Moreton.\n",
            "Earlier than this immigrant ship, was the arrival of the Irish famine orphan girls to Queensland. Devised by the then British Secretary of State for the Colonies, The Earl Grey Scheme established a special emigration scheme which was designed to resettle destitute girls from the workhouses of Ireland during the Great Famine. The very first ship, the “Earl Grey”, departed Ireland for a 124-day sail to Sydney. After controversy developed upon their arrival in Australia, a small group of 37 young orphans, sometimes referred to as The Belfast Girls or the Feisty Colleens, never set foot on Sydney soil, and instead sailed up to Brisbane (then Moreton Bay) on 21 October 1848 on board the Ann Mary. This scheme continued until 1852.A war, which contemporaries called a \"war of extermination\", erupted between settlers and Aboriginal people in colonial Queensland. The Frontier War was notable for being the most bloody in Australia, perhaps due to Queensland's larger pre-contact indigenous population when compared to the other Australian colonies. The \"Native Police Force\", employed by the Queensland government, was key in the oppression of the indigenous people.The largest reported massacre of colonists by Aboriginals was in 1861 on the Nogoa River where 19 people were killed. One author estimates 24,000 Aboriginal men, women and children died at the hands of the Native Police in colonial Queensland between 1859 and 1897 alone.\n",
            "\n",
            "\n",
            "=== Independent governance ===\n",
            "\n",
            "A public meeting was held in 1851 to consider the proposed separation of Queensland from New South Wales. On 6 June 1859, Queen Victoria signed Letters Patent to form the separate colony of Queensland as a self-governing Crown colony with responsible government. Brisbane was selected as the capital city. On 10 December 1859, a proclamation was read by George Bowen, the first Governor of Queensland, formally establishing Queensland as a separate colony from New South Wales. On 22 May 1860 the first Queensland election was held and Robert Herbert, Bowen's private secretary, was appointed as the first Premier of Queensland.\n",
            "In 1865, the first rail line in the state opened between Ipswich and Grandchester. Queensland's economy expanded rapidly in 1867 after James Nash discovered gold on the Mary River near the town of Gympie, sparking a gold rush. While still significant, they were on a much smaller scale than the gold rushes of Victoria and New South Wales.\n",
            "\n",
            "Immigration to Australia and Queensland, in particular, began in the 1850s to support the state economy. During the period from the 1860s until the early 20th century, many labourers, known at the time as Kanakas, were brought to Queensland from neighbouring Pacific Island nations to work in the state's sugar cane fields. Some of these people had been kidnapped under a process known as blackbirding or press ganging, and their employment conditions constituted an allegedly-exploitative form of indentured labour. Italian immigrants entered the sugar cane industry from the 1890s.During the 1890s, the six Australian colonies, including Queensland, held a series of referendums which culminated in the Federation of Australia on 1 January 1901. During this time, Queensland had a population of half a million people. Since that time Queensland has remained a federated state within Australia.\n",
            "\n",
            "\n",
            "=== 20th century ===\n",
            "\n",
            "Following Federation in 1901, the White Australia policy came into effect, which saw all foreign workers in Australia deported under the Pacific Island Labourers Act 1901, which saw the Pacific Islander population of the state decrease rapidly.In 1905, women voted in state elections for the first time. The state's first university, the University of Queensland, was established in Brisbane in 1909. In 1911, the first alternative treatments for polio were pioneered in Queensland and remain in use across the world today.World War I had a major impact on Queensland. Over 58,000 Queenslanders fought in World War I and over 10,000 of them died.Australia's first major airline, Qantas (originally standing for \"Queensland and Northern Territory Aerial Services\"), was founded in Winton in 1920 to serve outback Queensland.\n",
            "In 1922, Queensland abolished the Queensland Legislative Council, becoming the only Australian state with a unicameral parliament.\n",
            "In 1935, cane toads were deliberately introduced to Queensland from Hawaii in an unsuccessful attempt to reduce the number of French's cane and greyback cane beetles that were destroying the roots of sugar cane plants, which are integral to Queensland's economy. The toads have remained an environmental pest since that time. In 1962, the first commercial production of oil in Queensland and Australia began at Moonie.\n",
            "During World War II, Brisbane became central to the Allied campaign when the AMP Building (now called MacArthur Central) was used as the South West Pacific headquarters for General Douglas MacArthur, chief of the Allied Pacific forces, until his headquarters were moved to Hollandia in August 1944. In 1942, during the war, Brisbane was the site of a violent clash between visiting US military personnel and Australian servicemen and civilians, which resulted in one death and hundreds of injuries. This incident became known colloquially as the Battle of Brisbane.The end of World War II saw a wave of immigration from across Europe, with many more immigrants coming from southern and eastern Europe than in previous decades.\n",
            "In the latter decades of the 20th century, the humid subtropical climate—regulated by the availability of air conditioning—saw Queensland become a popular destination for migrants from interstate. Since that time, Queensland has continuously seen high levels of migration from the other states and territories of Australia.\n",
            "The final end of the White Australia policy in 1973 saw the beginning of a wave of immigration from around the world, and most prominently from Asia, which continues to the present.\n",
            "In 1981, the Great Barrier Reef off Queensland's northeast coast, one of the world's largest coral reef systems, was declared a UNESCO World Heritage Site.\n",
            "\n",
            "\n",
            "=== 21st century ===\n",
            "In 2003, Queensland adopted maroon as the state's official colour. The announcement was made as a result of an informal tradition to use maroon to represent the state in association with sporting events.After three decades of record population growth, Queensland was impacted by major floods between late 2010 and early 2011, causing extensive damage and disruption across the state.In 2020, Queensland was impacted by the COVID-19 pandemic. Despite a low number and abrupt decline in cases from April 2020 onward, social distancing requirements were implemented from March 2020 including the closure of the state borders.\n",
            "\n",
            "\n",
            "== Geography ==\n",
            "\n",
            "With a total area of 1,852,642 square kilometres (715,309 square miles), Queensland is an expansive state with a highly diverse range of climates and geographical features. If Queensland were an independent nation, it would be the world's 16th largest, being approximately the same size as Mexico, Indonesia and Mongolia.\n",
            "Queensland's eastern coastline borders the Coral Sea, an arm of the Pacific Ocean. The state is bordered by the Torres Strait to the north, with Boigu Island off the coast of New Guinea representing the northern extreme of its territory. The triangular Cape York Peninsula, which points toward New Guinea, is the northernmost part of the state's mainland. West of the peninsula's tip, northern Queensland is bordered by the Gulf of Carpentaria. To the west, Queensland is bordered by the Northern Territory, at the 138th meridian east, and to the southwest by northeastern South Australia. The state's southern border with New South Wales is constituted in the east by the watershed from Point Danger to the Dumaresq River, and the Dumaresq, Macintyre and Barwon rivers. The west of the southern border is defined by the 29th parallel south (including some minor historical encroachments), until it reaches South Australia.\n",
            "Like much of eastern Australia, the Great Dividing Range runs roughly parallel with, and inland from, the coast, and areas west of the range are more arid than the humid coastal regions. The Great Barrier Reef, which is the world's largest coral reef system, runs parallel to the state's Coral Sea coast between the Torres Strait and K'gari (Fraser Island). Queensland's coastline includes the world's three largest sand islands: K'gari (Fraser Island), Moreton and North Stradbroke.\n",
            "The state contains six World Heritage-listed preservation areas: the Great Barrier Reef along the Coral Sea coast, K'gari (Fraser Island) on the Wide Bay–Burnett region's coastline, the wet tropics in Far North Queensland including the Daintree Rainforest, Lamington National Park in South East Queensland, the Riversleigh fossil sites in North West Queensland, and the Gondwana Rainforests in South East Queensland.\n",
            "The state is divided into several unofficial regions which are commonly used to refer to large areas of the state's vast geography. These include:\n",
            "\n",
            "South East Queensland in the state's coastal extreme south-eastern corner, an urban region which includes the state's three largest cities: capital city Brisbane and popular coastal tourist destinations the Gold Coast and Sunshine Coast. In some definitions, it also includes the city of Toowoomba. South East Queensland accounts for more than 70% of the state's population.\n",
            "The Darling Downs in the state's inland south-east, which consists of fertile agricultural (particularly cattle grazing) land and in some definitions includes the city of Toowoomba. The region also includes the mountainous Granite Belt, the state's coldest region which occasionally experiences snow.\n",
            "Wide Bay–Burnett in the state's coastal south-east, to the north of the South East Queensland region. It is rich in sugar cane farms and includes the cities of Bundaberg, Hervey Bay as well as K'gari (Fraser Island), the world's largest sand island.\n",
            "Central Queensland on the state's central coastline, which is dominated by cattle farmland and coal mining. It contains the Capricorn Coast and Whitsunday Islands tourist regions, as well as the cities of Rockhampton and Mackay.\n",
            "North Queensland on the state's northern coastline, which is dominated by cattle farmland and mining and which includes the city of Townsville.\n",
            "Far North Queensland on the state's extreme northern coastline along the Cape York Peninsula, which includes tropical rainforest, the state's highest mountain, Mount Bartle Frere, the Atherton Tablelands pastoral region (dominated by sugar cane and tropical fruits), the most visited section of the Great Barrier Reef, as well as the city of Cairns.\n",
            "South West Queensland in the state's inland south-west, which is a primarily agricultural region dominated by cattle farmland, and which includes the Channel Country region of intertwining rivulets.\n",
            "Central West Queensland in the state's inland central-west, dominated by cattle farmland and which includes the city of Longreach.\n",
            "The Gulf Country (also known as North West Queensland), in the state's inland north-west along the Gulf of Carpentaria, which is dominated by savanna and mining and includes the city of Mount Isa.\n",
            "\n",
            "\n",
            "=== Climate ===\n",
            "\n",
            "Because of its size, there is significant variation in climate across the state. There is ample rainfall along the coastline, with a monsoonal wet season in the tropical north, and humid sub-tropical conditions along the southern coastline. Low rainfall and hot humid summers are typical for the inland and west. Elevated areas in the south-eastern inland can experience temperatures well below freezing in mid-winter providing frost and, rarely, snowfall. The climate of the coastal regions is influenced by warm ocean waters, keeping the region free from extremes of temperature and providing moisture for rainfall.There are six predominant climatic zones in Queensland, based on temperature and humidity:\n",
            "\n",
            "Hot humid summer, warm humid winter (far north and coastal): Cairns, Innisfail\n",
            "Hot humid summer, warm dry winter (north and coastal): Townsville, Mackay\n",
            "Hot humid summer, mild dry winter (coastal elevated areas and coastal south-east): Brisbane, Bundaberg, Rockhampton\n",
            "Hot dry summer, mild dry winter (central inland and north-west): Mt Isa, Emerald, Longreach\n",
            "Hot dry summer, cool dry winter (southern inland): Roma, Charleville, Goondiwindi\n",
            "Warm humid summer, cold dry winter (elevated south-eastern areas): Toowoomba, Warwick, StanthorpeThe annual mean climatic statistics for selected Queensland cities are shown below:\n",
            "\n",
            "The coastal far north of the state is the wettest region in Australia, with Mount Bellenden Ker, south of Cairns, holding many Australian rainfall records with its annual average rainfall of over 8 metres (26 ft). Snow is rare in Queensland, although it does fall with some regularity along the far southern border with New South Wales, predominantly in the Stanthorpe district although on rare occasions further north and west. The most northerly snow ever recorded in Australia occurred near Mackay; however, this was exceptional.Natural disasters are often a threat in Queensland: severe tropical cyclones can impact the central and northern coastlines and cause severe damage, with recent examples including Larry, Yasi, Ita and Debbie. Flooding from rain-bearing systems can also be severe and can occur anywhere in Queensland. One of the deadliest and most damaging floods in the history of the state occurred in early 2011. Severe springtime thunderstorms generally affect the south-east and inland of the state and can bring damaging winds, torrential rain, large hail and even tornadoes. The strongest tornado ever recorded in Australia occurred in Queensland near Bundaberg in November 1992. Droughts and bushfires can also occur; however, the latter are generally less severe than those that occur in southern states.\n",
            "The highest official maximum temperature recorded in the state was 49.5 °C (121.1 °F) at Birdsville Police Station on 24 December 1972, although the Moderate-Resolution Imaging Spectroradiometer (MODIS) on NASA's Aqua satellite measured a ground surface temperature of 69.3 °C (156.7 °F). Queensland has the highest average maximums of any Australian state, and Stanthorpe, Hervey Bay, Mackay, Atherton, Weipa and Thursday Island are the only large population centres not to have recorded a temperature above 40 °C (104 °F). The lowest recorded minimum temperature is −10.6 °C (12.9 °F) at Stanthorpe on 23 June 1961 and at The Hermitage (near Warwick) on 12 July 1965. Temperatures below 0 °C (32 °F) are, however, generally uncommon over the majority of populated Queensland.\n",
            "\n",
            "\n",
            "== Demographics ==\n",
            "\n",
            "In December 2021, Queensland had an estimated population of 5,265,043. Approximately half of the state's population live in Brisbane, and over 70% live in South East Queensland. Nonetheless, Queensland is the second most decentralised state in Australia after Tasmania. Since the 1980s, Queensland has consistently been the fastest-growing state in Australia, as it receives high levels of both international immigration and migration from interstate. There have however been short periods where Victoria and Western Australia have grown faster.\n",
            "\n",
            "\n",
            "=== Cities ===\n",
            "Ten of Australia's thirty largest cities are located in Queensland. In 2019, the largest cities in the state by population of their Greater Capital City Statistical Area or Significant Urban Area (metropolitan areas) as defined by the Australian Bureau of Statistics were:\n",
            "\n",
            "\n",
            "=== Ancestry and immigration ===\n",
            "Early settlers during the 19th century were largely English, Irish, Scottish and German, while there was a wave of immigration from southern and eastern Europe (most notably Italy) in the decades following the second world war. In the 21st century, Asia (most notably China and India) has been the primary source of immigration.\n",
            "At the 2016 census, the most commonly nominated ancestries were:\n",
            "\n",
            "The 2016 census showed that 28.9% of Queensland's inhabitants were born overseas. Only 54.8% of inhabitants had both parents born in Australia, with the next most common birthplaces being New Zealand, England, India, Mainland China and South Africa. Brisbane has the 26th largest immigrant population among world metropolitan areas.\n",
            "4% of the population, or 186,482 people, identified as Indigenous Australians (Aboriginal Australians and Torres Strait Islanders) in 2016.\n",
            "\n",
            "\n",
            "=== Language ===\n",
            "At the 2016 census, 81.2% of inhabitants spoke only English at home, with the next most common languages being Mandarin (1.5%), Vietnamese (0.6%), Cantonese (0.5%), Spanish (0.4%) and Italian (0.4%).At the 2021 census, 80.5% of inhabitants spoke only English at home, with the next most common languages being Mandarin (1.6%), Vietnamese (0.6%), Punjabi (0.6%) and Spanish (0.6%).\n",
            "\n",
            "\n",
            "=== Religion ===\n",
            "At the 2016 census, the most commonly cited religious affiliations were 'No religion' (29.2%), Catholicism (21.7%) and Anglicanism (15.3%).According to the 2021 census, 45.7% of the population follows Christianity and 41.2% identified as having No religion About 5% of people are affiliated with a non-Christian religion, mainly Buddhism (1.4%), Hinduism (1.3%) and Islam (1.2%).\n",
            "\n",
            "\n",
            "=== Education ===\n",
            "\n",
            "Queensland is home to numerous universities. The state's oldest university, the University of Queensland, was established in 1909 and frequently ranks among the world's top 50. Other major universities include Queensland University of Technology, Griffith University, the University of Southern Queensland, the University of the Sunshine Coast, James Cook University (which was the state's first university outside of South East Queensland), Central Queensland University and Bond University (which was Australia's first private university).\n",
            "International education is an important industry, with 134,312 international students enrolled in the state in 2018, largely focused on Brisbane. Most of the state's international students are from Asia.At the primary and secondary levels, Queensland is home to numerous state and private schools.\n",
            "\n",
            "\n",
            "== Economy ==\n",
            "\n",
            " \n",
            "\n",
            "In 2019, Queensland had a gross state product of A$357,044 million, the third-highest in the nation after New South Wales and Victoria. The construction of sea ports and railways along Queensland's coast in the 19th century set up the foundations for the state's export-oriented mining and agricultural sectors. Since the 1980s, a sizeable influx of interstate and overseas migrants, large amounts of federal government investment, increased mining of vast mineral deposits and an expanding aerospace sector have contributed to the state's economic growth.Primary industries include bananas, pineapples, peanuts, a wide variety of other tropical and temperate fruit and vegetables, grain crops, wineries, cattle raising, cotton, sugarcane, and wool. The mining industry includes bauxite, coal, silver, lead, zinc, gold and copper.Secondary industries are mostly further processing of the above-mentioned primary produce. For example, bauxite is shipped by sea from Weipa and converted to alumina at Gladstone. There is also copper refining and the refining of sugar cane to sugar at a number of mills along the eastern coastline.\n",
            "Major tertiary industries are retail, tourism and international education. In 2018, there were 134,312 international students enrolled in the state, largely focused on Brisbane. Most of the state's international students are from Asia.Brisbane is categorised as a global city, and is among Asia-Pacific cities with largest GDPs. It has strengths in mining, banking, insurance, transportation, information technology, real estate and food. Some of the largest companies headquartered in Brisbane, all among Australia's largest, include Suncorp Group, Virgin Australia, Aurizon, Bank of Queensland, Flight Centre, CUA, Sunsuper, QSuper, Domino's Pizza Enterprises, Star Entertainment Group, ALS, TechnologyOne, NEXTDC, Super Retail Group, New Hope Coal, Jumbo Interactive, National Storage, Collins Foods and Boeing Australia.\n",
            "\n",
            "\n",
            "=== Tourism ===\n",
            "\n",
            "As a result of its varied landscapes, warm climate and abundant natural environment, tourism is Queensland's leading tertiary industry with millions of interstate and international visitors visiting the state each year. The industry generates $8.8 billion annually, accounting for 4.5% of Queensland's Gross State Product. It has an annual export of $4.0 billion annually. The sector directly employs about 5.7% of Queensland citizens. Accommodation in Queensland caters for nearly 22% of the total expenditure, followed by restaurants/meals (15%), airfares (11%), fuel (11%) and shopping/gifts (11%).The most visited tourist destinations of Queensland include Brisbane (including Moreton and South Stradbroke islands and the Gold Coast) as well as the Sunshine Coast, the Great Barrier Reef, Cairns, Port Douglas, the Daintree Rainforest, K'gari and the Whitsunday Islands.Brisbane is the third most popular destination in Australia following Sydney and Melbourne. Major attractions in its metropolitan area include South Bank Parklands, the Queensland Cultural Centre (including the Queensland Museum, Queensland Art Gallery, Gallery of Modern Art, Queensland Performing Arts Centre and State Library of Queensland), City Hall, the Story Bridge, the Howard Smith Wharves, ANZAC Square, St John's Cathedral, Fortitude Valley (including James Street and Chinatown), West End, the Teneriffe woolstores precinct, the Brisbane River and its Riverwalk network, the City Botanic Gardens, Roma Street Parkland, New Farm Park (including the Brisbane Powerhouse), the Kangaroo Point Cliffs and park, the Lone Pine Koala Sanctuary, the Mount Coot-tha Reserve (including Mount Coot-tha Lookout and Mount Coot-tha Botanic Gardens), the D'Aguilar Range and National Park, as well as Moreton Bay (including Moreton, North Stradbroke and Bribie islands, and coastal suburbs such as Shorncliffe, Wynnum and those on the Redcliffe Peninsula).The Gold Coast is home to numerous popular surf beaches such as those at Surfers Paradise and Burleigh Heads. It also includes the largest concentration of amusement parks in Australia, including Dreamworld, Movie World, Sea World, Wet 'n' Wild and WhiteWater World, as well as the Currumbin Wildlife Sanctuary. The Gold Coast's hinterland includes Lamington National Park in the McPherson Range.The Sunshine Coast includes popular surfing and beach destinations including Noosa Heads and Mooloolaba. It is also home to UnderWater World and Steve Irwin's Australia Zoo. Its hinterland includes the Glass House Mountains National Park.Cairns is renowned as the gateway to the Great Barrier Reef, Far North Queensland (including Port Douglas) and the Daintree Rainforest. The Whitsunday Islands off the coast of North Queensland are a popular tourist destinations for their resort facilities and access to the Great Barrier Reef.\n",
            "\n",
            "\n",
            "== Politics and government ==\n",
            "\n",
            "One of the six founding states of Australia, Queensland has been a federated state subject to the Australian Constitution since 1 January 1901. It is sovereign, other than in the matters ceded in the Australian Constitution to the federal government. It is a parliamentary constitutional monarchy. The Constitution of Queensland sets out the operation of the state's government. The state's constitution contains several entrenched provisions which cannot be changed in the absence of a referendum. There is also a statutory bill of rights, the Queensland Human Rights Act (2019). Queensland's system of government is influenced by the Westminster system and Australia's federal system of government.\n",
            "The government is separated into three branches:\n",
            "\n",
            "Legislature: the unicameral Parliament of Queensland, comprising the Legislative Assembly and the Monarch (represented by the Governor);\n",
            "Executive: the Executive Council of Queensland, which formalises decisions of the Cabinet of Queensland, which is composed of the Premier and other ministers of state appointed by the Governor on the advice of Parliament;\n",
            "Judiciary: the Supreme Court and other state courts, whose judges are appointed by the Governor on advice of Parliament.Executive authority is nominally vested in the Governor of Queensland (currently Jeannette Young) who represents and is appointed by the Monarch of Australia (currently Charles III) on the advice of the Premier of Queensland. The Premier, who is the state's Head of government, along with the Cabinet of Queensland (whose decisions are formalised by the Executive Council), exercise executive authority in practice. The Premier is appointed by the Governor and must have support of the Legislative Assembly of Queensland. The Premier is in practice a leading member of the Legislative Assembly and parliamentary leader of his or her political party, or coalition of parties, and members of Cabinet will be drawn from the same party or coalition. The current Premier and Deputy Premier are Annastacia Palaszczuk and Steven Miles of the Labor Party respectively. Government House at Paddington in Brisbane is the seat of the Governor, having replaced Old Government House at Gardens Point in Brisbane's CBD in the early 20th century. The executive branch simply referred to as the Queensland Government.\n",
            "Legislative authority is exercised by the Queensland Parliament which uniquely for Australian states is unicameral, containing only one house, the Legislative Assembly. The Parliament was bicameral until 1922, when the Legislative Council was abolished by the Labor \"suicide squad\", so called because they were appointed for the purpose of voting to abolish their own offices. Bills receive royal assent from the Governor before being passed into law. The Parliament's seat is at Parliament House at Gardens Point in Brisbane's CBD. Members of the Legislative Assemby represent 93 electoral districts. Elections in Queensland are held at the end of each fixed four-year parliamentary term, and are determined by instant-runoff voting.\n",
            "The state's judiciary consists of the Supreme Court of Queensland and the District Court of Queensland, established by the Queensland Constitution, as well as the Magistrates Court of Queensland and other courts and tribunals established by legislation. Cases may be appealed to the High Court of Australia. As with all Australian states and territories, Queensland has a Common law legal system. The Supreme and District courts are headquartered at the Queen Elizabeth II Courts of Law in Brisbane's CBD.\n",
            "The state's politics are traditionally regarded as being conservative relative to other states. Historically, the lack of an upper house, a former gerrymander favouring rural electoral districts as well as the former system of optional preferential voting has meant that Queensland had a long tradition of domination by strong-willed, populist premiers, often accused of authoritarian tendencies, holding office for long periods. This tendency was exemplified by the government of the state's longest-serving Premier Joh Bjelke-Petersen.\n",
            "\n",
            "\n",
            "=== Local government ===\n",
            "\n",
            "Local government is the mechanism by which local government areas can manage their own affairs to the extent permitted by the Local Government Act 2009. Queensland is divided into 77 local government areas, which are created by the state government under legislation. Each local government area has a council responsible for providing a range of local services and utilities. Local councils derive their income from both rates and charges on resident ratepayers, and grants and subsidies from the state and federal governments.\n",
            "\n",
            "\n",
            "=== Federal representation ===\n",
            "In the federal Parliament of Australia, Queensland accounts for 30 of the 151 electoral divisions in the House of Representatives (on the basis of population size) and 12 of the 76 seats in the Senate (on the basis of equality between the states).\n",
            "The current partisan makeup of Queensland's House of Representatives delegation is 21 Liberal National, 5 Labor, 3 Australian Greens, and 1 Katter's Australian Party.\n",
            "The current partisan makeup of Queensland's Senate delegation is 5 Liberal National, 3 Labor, 2 One Nation and 2 Green.\n",
            "\n",
            "\n",
            "== Culture ==\n",
            "\n",
            "Queensland is home to major art galleries including the Queensland Art Gallery and the Queensland Gallery of Modern Art as well as cultural institutions such as the Queensland Ballet, Opera Queensland, Queensland Theatre Company, and Queensland Symphony Orchestra, all based at the Queensland Cultural Centre in Brisbane. The state is the origin of musicians such as the Bee Gees, The Go-Betweens, The Veronicas, The Saints, Savage Garden, and Sheppard as well as writers such as David Malouf, Nick Earls and Li Cunxin.\n",
            "Major annual cultural events include the Royal Queensland Exhibition (known locally as the Ekka), an agricultural exhibition held each August at the Brisbane Showgrounds as well as the Brisbane Festival, which includes one of the nation's largest annual fireworks displays called 'Riverfire', and which is held each September.\n",
            "\n",
            "\n",
            "=== Sport ===\n",
            "\n",
            "The state of Queensland is represented in all of Australia's national sporting competitions and it is also host to a number of domestic and international sporting events. The most popular winter and summer team sports are rugby league and cricket, respectively.\n",
            "In the National Rugby League, the Brisbane Broncos, North Queensland Cowboys and Gold Coast Titans are based in the state. Rugby league's annual State of Origin series is a major event in the Queensland sporting calendar, with the Queensland Maroons representing the state.\n",
            "In cricket, the Queensland Bulls represent the state in the Sheffield Shield and the Ryobi One Day Cup, while the Brisbane Heat compete in the Big Bash League.\n",
            "Queensland is also home to the Brisbane Lions and the Gold Coast Suns in the Australian Football League (Australian rules football), and the Brisbane Roar FC in the A-League (soccer). In netball the Queensland Firebirds went undefeated in the 2011 season as they went on to win the Grand Final. Other sports teams are the Brisbane Bullets and the Cairns Taipans, who compete in the National Basketball League.\n",
            "The state is represented by the Queensland Reds in the Super Rugby (rugby union).\n",
            "Swimming is also a popular sport in Queensland, with many of Australian team members and international medalists hailing from the state.\n",
            "Brisbane will host the 2032 Summer Olympics, marking the third time Australia hosted the Olympic Games following Melbourne 1956 and Sydney 2000. Major recurring sporting events hosted in Queensland include: the Gold Coast 600 (motorsport; since 1994), the Gold Coast Marathon (athletics; since 1979), the NRL All Stars Game (rugby league; since 2010), the Townsville 400 (motorsport; since 2009), the Quicksilver Pro and Roxy Pro (surfing) and Australian PGA Championship (golf; since 2000).\n",
            "\n",
            "\n",
            "=== Symbols and emblems ===\n",
            "\n",
            "The official state emblems of Queensland are prescribed in the Emblems of Queensland Act 2005.\n",
            "Queen Victoria granted the Queensland Coat of Arms to the Colony of Queensland in 1893, making it the oldest State Arms in Australia. It depicts Queensland's primary industries in the 19th century with a sheaf of wheat, the heads of a bull and a ram, and a column of gold rising from a heap of quartz. Two stalks of sugar cane which surround the state badge at the top, and below is Queensland's state motto, Audax at Fidelis, which means \"Bold but Faithful\". In 1977, Queen Elizabeth II granted the supporting animals, the brolga and the red deer.In November 2003 maroon was officially named as Queensland's state colour, after many years of association with Queensland sporting teams.\n",
            "The koala was officially named the animal or faunal, emblem of Queensland in 1971, after a newspaper poll showed strong public support. The Queensland Government introduced the poll due to a proposal by state tourism ministers for all states to adopt a faunal emblem. In January 1986 that the brolga was announced as the official bird emblem of Queensland, after many years on the Coat of Arms.The Cooktown orchid became known as Queensland's floral emblem in 1959, during celebrations to mark the state's centenary, and the Barrier Reef Anemone Fish was officially named as Queensland's aquatic emblem in March 2005.The sapphire was named the official state gem for Queensland in August 1985.\n",
            "\n",
            "\n",
            "== Infrastructure ==\n",
            "\n",
            "\n",
            "=== Transport ===\n",
            "\n",
            "Queensland is served by a number of National Highways and, particularly in South East Queensland, a network of freeways such as the M1. The Department of Transport & Main Roads oversees the development and operation of main roads and public transport, including taxis and local aviation.\n",
            "Principal rail services are provided by Queensland Rail, predominantly between the major centres east of the Great Dividing Range. Freight rail services in Queensland have been provided mostly by Aurizon and Pacific National, with interstate intermodal services provided by Pacific National and SCT Logistics. Major seaports include the Port of Brisbane, Australia's third busiest by value of goods, as well as those at Gladstone, Townsville and Bundaberg. There are large coal export facilities at Hay Point, Gladstone and Abbot Point. Major sugar export facilities are located at Lucinda and Mackay.\n",
            "Brisbane Airport is the main international and domestic gateway serving the state, and is the third busiest in Australia. Other international airports include the Gold Coast Airport, Cairns International Airport and Townsville Airport. Regional airports with scheduled domestic flights include Toowoomba Wellcamp Airport, Great Barrier Reef Airport, Hervey Bay Airport, Bundaberg Airport, Mackay Airport, Mount Isa Airport, Proserpine / Whitsunday Coast Airport, Rockhampton Airport, and Sunshine Coast Airport.\n",
            "South East Queensland has an integrated public transport system operated by TransLink, which provides services bus, rail, light rail and Brisbane's ferry services through Queensland Rail and contracted operators. The region is divided into seven Fare zones radiating outwards from the Brisbane central business district, which is the central hub for the system. The Queensland Rail City network consists of 152 train stations along 13 suburban rail lines and across the region, and predominantly within Brisbane's metropolitan area. There is also a large bus network including Brisbane's large dedicated bus rapid transit network, the Brisbane busway network. Brisbane's popular ferry services include the CityCat, Cross River and CityHopper services which have dedicated wharves along the Brisbane River. The G:link, Queensland's only light rail network, operates on the Gold Coast.\n",
            "\n",
            "\n",
            "=== Other utilities ===\n",
            "Queensland Health operates and administers the state's public health system. There are sixteen regional Health and Hospital Services corresponding to geographical regions which are responsible for delivering public health services within their regions. Major public hospitals include the Royal Brisbane and Women's Hospital, Princess Alexandra Hospital, the Mater Hospital, the Queen Elizabeth II Jubilee Hospital, and the Queensland Children's Hospital in Brisbane, as well as the Townsville University Hospital, Cairns Hospital, Gold Coast Hospital and Gold Coast University Hospital in the regional cities. There are smaller public hospitals, as well as private hospitals, around the state.\n",
            "\n",
            "\n",
            "== See also ==\n",
            "Outline of Australia\n",
            "Index of Australia-related articles\n",
            "Queensland Day\n",
            "Blackbirding\n",
            "\n",
            "\n",
            "== Notes ==\n",
            "\n",
            "\n",
            "== References ==\n",
            "\n",
            "\n",
            "== External links ==\n",
            "\n",
            " Geographic data related to Queensland at OpenStreetMap\n",
            "Government of Queensland\n",
            "State Archives, Government of Queensland\n",
            "State Library, Government of Queensland\n",
            "Far North Queensland (historical footage), AU: National Film and Sound Archive, 21 August 2012.\n",
            "Daintrees, Richard, Glass plates, AU: National Museum.\n",
            "Works by Queensland at Project Gutenberg\n",
            "Works by or about Queensland at Internet Archive\n",
            "State Library of Queensland holds the Growing up in Queensland (GUiQ) 2018 archive, a project conducted by the Queensland Family and Child Commission. The inaugural GUiQ was conducted in 2018 and gathered information about thoughts and experiences of children and young people aged 4-18 years in Queensland.\n"
          ]
        }
      ],
      "source": [
        "## Import packages:\n",
        "import nltk\n",
        "nltk.download('punkt')\n",
        "from nltk.tokenize import word_tokenize, sent_tokenize\n",
        "\n",
        "import numpy as np\n",
        "\n",
        "import re\n",
        "\n",
        "from collections import Counter\n",
        "import math\n",
        "\n",
        "## TF-IDF-oriented function:\n",
        "def tfidf_wikisearch(documents):\n",
        "  ## Write your function code body here (** the comments below are only for instructional reference)\n",
        "  # process the document (** remember to add the three additional stop words listed above)\n",
        "  punc_free_doc1 = re.sub(r'[^\\w\\s]','',documents[0])\n",
        "  punc_free_doc2 = re.sub(r'[^\\w\\s]','',documents[1])\n",
        "  punc_free_doc3 = re.sub(r'[^\\w\\s]','',documents[2])\n",
        "\n",
        "  tokenized_doc1 = word_tokenize(punc_free_doc1)\n",
        "  tokenized_doc2 = word_tokenize(punc_free_doc2)\n",
        "  tokenized_doc3 = word_tokenize(punc_free_doc3)\n",
        "\n",
        "  lower_tokens1 = [t.lower() for t in tokenized_doc1]\n",
        "  lower_tokens2 = [t.lower() for t in tokenized_doc2]\n",
        "  lower_tokens3 = [t.lower() for t in tokenized_doc3]\n",
        "\n",
        "  stopwords = sw.words()\n",
        "  stopwords.extend(['sydney', 'melbourne', 'brisbane']) #add additional stop words\n",
        "  tokenized_doc1 = [w for w in lower_tokens1 if not w in stopwords]\n",
        "  tokenized_doc2 = [w for w in lower_tokens2 if not w in stopwords]\n",
        "  tokenized_doc3 = [w for w in lower_tokens3 if not w in stopwords]\n",
        "\n",
        "  tokenized_docs = [tokenized_doc1, tokenized_doc2, tokenized_doc3]\n",
        "  # calculate the TF-IDF values for each unique word in the documents\n",
        "  \n",
        "  # DF\n",
        "  DF = {}\n",
        "  for tokenized_doc in tokenized_docs:\n",
        "  # get each unique word in the doc - and count the number of occurrences in the document\n",
        "    for term in np.unique(tokenized_doc):\n",
        "      if term in DF:\n",
        "        DF[term] += 1\n",
        "      else:\n",
        "        DF[term] = 1\n",
        "\n",
        "  # TF-IDF\n",
        "  tf_idf = {}\n",
        "  N = len(tokenized_docs) \n",
        "  print('\\n')\n",
        "  print('Total docs in documents: ', N)\n",
        "  \n",
        "  doc_id = 0\n",
        "  for tokenized_doc in tokenized_docs:\n",
        "    counter = Counter(tokenized_doc)\n",
        "    total_num_words = len(tokenized_doc)   \n",
        "    for term in np.unique(tokenized_doc):\n",
        "      tf = counter[term]/total_num_words\n",
        "      df = DF[term]\n",
        "      idf = math.log(N/(df+1))+1\n",
        "      tf_idf[doc_id, term] = tf*idf\n",
        "    doc_id += 1\n",
        "  # sort the words based on their TF-IDF valuse and get the word with highes TF-IDF value\n",
        "  dict_example = tf_idf\n",
        "  sorted_dict = sorted(dict_example.items(), key=lambda x: x[1], reverse=True)\n",
        "  print('\\n')\n",
        "  print('The word with top-1 TF-IDF value is: ', sorted_dict[0][0][1])\n",
        "  print('\\n')\n",
        "  topword = sorted_dict[0][0][1]\n",
        "  # search the wiki page for this word and print out the page content \n",
        "\n",
        "  cities_docs = [topword]\n",
        "  document = [wikipedia.page(city).content for city in cities_docs]\n",
        "\n",
        "  print('The retrieved wiki page content: ')\n",
        "  print('\\n')\n",
        "  print(document[0])\n",
        "# Call the funtion. The execution print out log should be kept for submission.\n",
        "tfidf_wikisearch(documents)"
      ]
    },
    {
      "cell_type": "markdown",
      "metadata": {
        "id": "0bDPKSXuDJg0"
      },
      "source": [
        "**E2 Sample output**\n",
        "\n",
        "The following is **sample output for E2** - **Your highest TF-IDF word could be different from the followings because of changes to the wikipedia pages.** Please only use this to check the output **format**, i.e. your output DOES NOT need to be exactly the same."
      ]
    },
    {
      "cell_type": "markdown",
      "metadata": {
        "id": "5lHBriOpDNzV"
      },
      "source": [
        "![COMP5046_LAB1_E2_sample_output.png](data:image/png;base64,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)"
      ]
    }
  ],
  "metadata": {
    "colab": {
      "collapsed_sections": [
        "lONWx3FtSwWJ"
      ],
      "provenance": [],
      "include_colab_link": true
    },
    "kernelspec": {
      "display_name": "Python 3",
      "name": "python3"
    },
    "gpuClass": "standard"
  },
  "nbformat": 4,
  "nbformat_minor": 0
}
